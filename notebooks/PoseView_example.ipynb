{
 "cells": [
  {
   "cell_type": "markdown",
   "id": "Pf-AMCVxtVOw",
   "metadata": {
    "id": "Pf-AMCVxtVOw"
   },
   "source": [
    "[![Open In Colab](https://colab.research.google.com/assets/colab-badge.svg)](https://colab.research.google.com/github/rareylab/proteins_plus_examples/blob/main/notebooks/PoseView_example.ipynb)\n"
   ]
  },
  {
   "cell_type": "markdown",
   "id": "639e7498",
   "metadata": {
    "id": "639e7498"
   },
   "source": [
    "# PoseView: Molecular Interaction Patterns at a Glance\n",
    "This notebook will introduce the ProteinsPlus API endpoints for PoseView. In general we will need a 3D protein and a ligand to generate 2D projections of protein-ligand interactions. The ligand does not need to be the native ligand and can be anywhere relative to the protein as long as it is meaningful to you.\n",
    "\n",
    "[Katrin Stierand and Matthias Rarey\n",
    "Journal of Cheminformatics 2010, 2, No. 1 p. P50](https://doi.org/10.1186/1758-2946-2-S1-P50)"
   ]
  },
  {
   "cell_type": "code",
   "execution_count": null,
   "id": "CwLUtyH3Rytl",
   "metadata": {
    "id": "CwLUtyH3Rytl"
   },
   "outputs": [],
   "source": [
    "# colab install dependencies\n",
    "!pip install biopython &>> output.log\n",
    "!pip install nglview &>> output.log\n",
    "!pip install rdkit-pypi &>> output.log"
   ]
  },
  {
   "cell_type": "code",
   "execution_count": 1,
   "id": "ad1fa243",
   "metadata": {
    "id": "ad1fa243"
   },
   "outputs": [],
   "source": [
    "# imports\n",
    "import os\n",
    "import io\n",
    "from pathlib import Path\n",
    "import requests\n",
    "import sys\n",
    "import time\n",
    "from urllib.parse import urljoin\n",
    "import warnings\n",
    "\n",
    "from IPython.display import Image\n",
    "from Bio.PDB import *\n",
    "from Bio.PDB.PDBExceptions import PDBConstructionWarning\n",
    "from rdkit import Chem"
   ]
  },
  {
   "cell_type": "code",
   "execution_count": 2,
   "id": "9c7f9a87",
   "metadata": {
    "id": "9c7f9a87"
   },
   "outputs": [],
   "source": [
    "# constants\n",
    "PROTEINS_PLUS_URL = 'https://proteins.plus/api/v2/'\n",
    "UPLOAD = urljoin(PROTEINS_PLUS_URL, 'molecule_handler/upload/')\n",
    "UPLOAD_JOBS = urljoin(PROTEINS_PLUS_URL, 'molecule_handler/upload/jobs/')\n",
    "PROTEINS = urljoin(PROTEINS_PLUS_URL, 'molecule_handler/proteins/')\n",
    "LIGANDS = urljoin(PROTEINS_PLUS_URL, 'molecule_handler/ligands/')\n",
    "POSEVIEW = urljoin(PROTEINS_PLUS_URL, 'poseview/')\n",
    "POSEVIEW_JOBS = urljoin(PROTEINS_PLUS_URL, 'poseview/jobs/')"
   ]
  },
  {
   "cell_type": "code",
   "execution_count": 3,
   "id": "141675c0",
   "metadata": {
    "id": "141675c0"
   },
   "outputs": [],
   "source": [
    "#@title Utils functions to call API (unhide if you're interested)\n",
    "\n",
    "# check server connection\n",
    "try:\n",
    "    response = requests.get(PROTEINS_PLUS_URL)\n",
    "except requests.ConnectionError as error:\n",
    "    if 'Connection refused' in str(error):\n",
    "        print('WARNING: could not establish a connection to the server', file=sys.stderr)\n",
    "    raise\n",
    "    \n",
    "def poll_job(job_id, poll_url, poll_interval=1, max_polls=10):\n",
    "    \"\"\"Poll the progress of a job\n",
    "    \n",
    "    Continuosly polls the server in regular intervals and updates the job information, especially the status.\n",
    "    \n",
    "    :param job_id: UUID of the job to poll\n",
    "    :type job_id: str\n",
    "    :param poll_url: URl to send the polling request to\n",
    "    :type poll_url: str\n",
    "    :param poll_interval: time interval between polls in seconds\n",
    "    :type poll_interval: int\n",
    "    :param max_polls: maximum number of times to poll before exiting\n",
    "    :type max_polls: int\n",
    "    :return: polled job\n",
    "    :rtype: dict\n",
    "    \"\"\"\n",
    "    job = requests.get(poll_url + job_id + '/').json()\n",
    "    status = job['status']\n",
    "    current_poll = 0\n",
    "    while status == 'pending' or status == 'running':\n",
    "        print(f'Job {job_id} is { status }')\n",
    "        current_poll += 1\n",
    "        if current_poll >= max_polls:\n",
    "            print(f'Job {job_id} has not completed after {max_polls} polling requests' \\\n",
    "                  f' and {poll_interval * max_polls} seconds')\n",
    "            return job\n",
    "        time.sleep(poll_interval)\n",
    "        job = requests.get(poll_url + job_id + '/').json()\n",
    "        status = job['status']\n",
    "    print(f'Job {job_id} completed with { status }')\n",
    "    return job"
   ]
  },
  {
   "cell_type": "markdown",
   "id": "beefb16b",
   "metadata": {
    "id": "beefb16b"
   },
   "source": [
    "## Generate a PoseView picture for a PDB file \n",
    "\n",
    "To get a PoseView picture of your binding site you can upload the protein and the ligand defining your binding site. \n",
    "\n"
   ]
  },
  {
   "cell_type": "markdown",
   "id": "7Tvnvx5CYGdX",
   "metadata": {
    "id": "7Tvnvx5CYGdX"
   },
   "source": [
    "### Run PoseView with a protein and ligand file"
   ]
  },
  {
   "cell_type": "code",
   "execution_count": 4,
   "id": "9Ta0CiLHTyd5",
   "metadata": {
    "colab": {
     "base_uri": "https://localhost:8080/"
    },
    "executionInfo": {
     "elapsed": 524,
     "status": "ok",
     "timestamp": 1654594391610,
     "user": {
      "displayName": "jochen sieg",
      "userId": "03823483447926121904"
     },
     "user_tz": -120
    },
    "id": "9Ta0CiLHTyd5",
    "outputId": "684a6d13-73f8-45a0-8977-14d1bfa4c55a"
   },
   "outputs": [
    {
     "name": "stdout",
     "output_type": "stream",
     "text": [
      "Downloading PDB structure '4agn'...\n",
      "Saved protein to 4agn.pdb\n",
      "Saved ligand to NXG_A_1294.sdf\n"
     ]
    }
   ],
   "source": [
    "#@title Download PDB file and extract ligand as SDF using biopython and rdkit\n",
    "\n",
    "\n",
    "# selector to extract the ligand we want from the biopython structure\n",
    "class SingleResidueSelect(Select):\n",
    "\n",
    "  def __init__(self, name, chain, identifier):\n",
    "    \"\"\"Selector to select specific residue from biopython structure.\n",
    "\n",
    "    Residue can be amino acid, ligand, metal, water, etc. \n",
    "        \n",
    "    :param name: residue name\n",
    "    :type name: str\n",
    "    :param chain: chain id\n",
    "    :type chain: str\n",
    "    :param identifier: ligand infile id\n",
    "    :type identifier: int\n",
    "    \"\"\"\n",
    "    self.name = name\n",
    "    self.chain = chain\n",
    "    self.identifier = identifier\n",
    "\n",
    "  def accept_residue(self, residue):\n",
    "    \"\"\"Accept residue or refuses it\n",
    "\n",
    "    :param name: residue name\n",
    "    :type name: Bio.PDB.residue.residue\n",
    "    :return: 1 if residue should be selected. 0 otherwise.\n",
    "    :rtype: int\n",
    "    \"\"\"\n",
    "    chain = residue.get_full_id()[2]\n",
    "    identifier = residue.get_id()[1]\n",
    "    if residue.get_resname() == self.name \\\n",
    "        and self.chain == chain \\\n",
    "        and self.identifier == identifier:\n",
    "      return 1\n",
    "    else:\n",
    "      return 0\n",
    "\n",
    "# fetch the protein 4agn from the PDB\n",
    "file_4agn = Path(PDBList().retrieve_pdb_file('4agn', file_format='pdb'))\n",
    "os.rename(file_4agn, file_4agn.stem[3:] + '.pdb')\n",
    "file_4agn = file_4agn.stem[3:] + '.pdb' # ProteinsPlus needs .pdb extension\n",
    "with warnings.catch_warnings():\n",
    "  warnings.simplefilter('ignore', PDBConstructionWarning)\n",
    "  structure_4agn = PDBParser().get_structure('4agn', file_4agn)\n",
    "# save ligand NXG_A_1294 to PDB file using biopython\n",
    "pdbio = PDBIO()\n",
    "pdbio.set_structure(structure_4agn)\n",
    "pdbio.save(\"NXG_A_1294.pdb\", SingleResidueSelect('NXG', 'A', 1294))\n",
    "# read ligand again and save it as SDF with rdkit\n",
    "mol_NXG_A_1294 = Chem.MolFromPDBFile(\"NXG_A_1294.pdb\")\n",
    "with Chem.SDWriter(\"NXG_A_1294.sdf\") as w:\n",
    "  w.write(mol_NXG_A_1294)\n",
    "print(f'Saved protein to {file_4agn}')\n",
    "print('Saved ligand to NXG_A_1294.sdf')"
   ]
  },
  {
   "cell_type": "markdown",
   "id": "vPQ5LhFWUpZy",
   "metadata": {
    "id": "vPQ5LhFWUpZy"
   },
   "source": [
    "Now we can access the protein structure in the 4agn.pdb file and it's ligand in the NXG_A_1294.sdf file"
   ]
  },
  {
   "cell_type": "code",
   "execution_count": 5,
   "id": "639bd5e3",
   "metadata": {
    "colab": {
     "base_uri": "https://localhost:8080/",
     "height": 657
    },
    "executionInfo": {
     "elapsed": 1046,
     "status": "ok",
     "timestamp": 1654594392643,
     "user": {
      "displayName": "jochen sieg",
      "userId": "03823483447926121904"
     },
     "user_tz": -120
    },
    "id": "639bd5e3",
    "outputId": "1b9d6fc4-96d8-47e2-e416-530b7412b8eb"
   },
   "outputs": [
    {
     "name": "stdout",
     "output_type": "stream",
     "text": [
      "Job faea490e-5d0d-4af9-bf8a-23771c9fa8b2 completed with success\n",
      "https://proteins.plus/static/media/poseview/tmpw110xf_a.svg\n"
     ]
    },
    {
     "data": {
      "text/html": [
       "<img src=\"https://proteins.plus/static/media/poseview/tmpw110xf_a.svg\" width=\"600\" height=\"600\"/>"
      ],
      "text/plain": [
       "<IPython.core.display.Image object>"
      ]
     },
     "execution_count": 5,
     "metadata": {},
     "output_type": "execute_result"
    }
   ],
   "source": [
    "with open('NXG_A_1294.sdf') as upload_ligand_file:\n",
    "    with open('4agn.pdb') as upload_file:\n",
    "        query = {'protein_file': upload_file, 'ligand_file': upload_ligand_file}\n",
    "        job_submission = requests.post(POSEVIEW, files=query).json()\n",
    "poseview_job = poll_job(job_submission['job_id'], POSEVIEW_JOBS)\n",
    "print(poseview_job['image'])\n",
    "Image(url=poseview_job['image'], width=600, height=600)  # freely scalabe SVG"
   ]
  },
  {
   "cell_type": "markdown",
   "id": "d7b7ee54",
   "metadata": {
    "id": "d7b7ee54"
   },
   "source": [
    "PoseView images are freely scalable and editable SVGs. The PoseView job model contains a URL to the actual image. If you want to keep the image please download the image (ex. you could \"right click\" -> \"save target as\" the URL above).\n"
   ]
  },
  {
   "cell_type": "markdown",
   "id": "pW_J9iF1XxH7",
   "metadata": {
    "id": "pW_J9iF1XxH7"
   },
   "source": [
    "### Using the ProteinsPlus preprocessor to obtain ligand file\n",
    "\n",
    "You can also use the preprocessor to split ligands from an uploaded protein file and then use one of them to generate a PoseView image with. Here we will upload the same file but to the preprocessor:"
   ]
  },
  {
   "cell_type": "code",
   "execution_count": 6,
   "id": "9add3035",
   "metadata": {
    "colab": {
     "base_uri": "https://localhost:8080/"
    },
    "executionInfo": {
     "elapsed": 1494,
     "status": "ok",
     "timestamp": 1654594394124,
     "user": {
      "displayName": "jochen sieg",
      "userId": "03823483447926121904"
     },
     "user_tz": -120
    },
    "id": "9add3035",
    "outputId": "16cbd4a8-a797-4905-a2b7-8cae7fe7b83b"
   },
   "outputs": [
    {
     "name": "stdout",
     "output_type": "stream",
     "text": [
      "Job 0892fc1d-6ab3-4f58-8eb9-18b3807451bf completed with success\n"
     ]
    }
   ],
   "source": [
    "with open('4agn.pdb') as upload_file:\n",
    "    query = {'protein_file': upload_file}\n",
    "    preprocessing_job_submission = requests.post(UPLOAD, files=query).json()\n",
    "preprocessing_job = poll_job(preprocessing_job_submission['job_id'], UPLOAD_JOBS)"
   ]
  },
  {
   "cell_type": "markdown",
   "id": "dfc6b8bb",
   "metadata": {
    "id": "dfc6b8bb"
   },
   "source": [
    "Then instead of taking the ligand of the A chain we will take the ligand of the B chain and generate a PoseView image for it:"
   ]
  },
  {
   "cell_type": "code",
   "execution_count": 7,
   "id": "82b308ac",
   "metadata": {
    "colab": {
     "base_uri": "https://localhost:8080/",
     "height": 657
    },
    "executionInfo": {
     "elapsed": 2303,
     "status": "ok",
     "timestamp": 1654594396422,
     "user": {
      "displayName": "jochen sieg",
      "userId": "03823483447926121904"
     },
     "user_tz": -120
    },
    "id": "82b308ac",
    "outputId": "08358b0c-4fae-46a2-b4c5-1298219d1d77"
   },
   "outputs": [
    {
     "name": "stdout",
     "output_type": "stream",
     "text": [
      "Job 0f9168d8-355a-4aec-ad4b-3ee59d70c871 completed with success\n",
      "https://proteins.plus/static/media/poseview/tmpb2atvtvv.svg\n"
     ]
    },
    {
     "data": {
      "text/html": [
       "<img src=\"https://proteins.plus/static/media/poseview/tmpb2atvtvv.svg\" width=\"600\" height=\"600\"/>"
      ],
      "text/plain": [
       "<IPython.core.display.Image object>"
      ]
     },
     "execution_count": 7,
     "metadata": {},
     "output_type": "execute_result"
    }
   ],
   "source": [
    "protein = requests.get(PROTEINS + preprocessing_job['output_protein'] + '/').json()\n",
    "ligands = [requests.get(LIGANDS + ligand_id + '/').json() for ligand_id in protein['ligand_set']]\n",
    "for ligand in ligands:\n",
    "    if ligand['name'] == 'NXG_B_1292':  # get the ligand of the B chain\n",
    "        other_ligand = ligand\n",
    "        break\n",
    "\n",
    "query = {'protein_id': protein['id'], 'ligand_id': ligand['id']}\n",
    "job_submission = requests.post(POSEVIEW, data=query).json()\n",
    "poseview_job = poll_job(job_submission['job_id'], POSEVIEW_JOBS)\n",
    "print(poseview_job['image'])\n",
    "Image(url=poseview_job['image'], width=600, height=600)  # freely scalabe SVG"
   ]
  },
  {
   "cell_type": "markdown",
   "id": "YK5Y-hNJSqew",
   "metadata": {
    "id": "YK5Y-hNJSqew"
   },
   "source": [
    "The image is nearly the same but this time with references to B chain residues.\n"
   ]
  },
  {
   "cell_type": "markdown",
   "id": "0271f36f",
   "metadata": {
    "id": "0271f36f"
   },
   "source": [
    "## Make 2D depictions with a non-native ligand\n",
    "\n",
    "Another thing we can do is generate PoseView images for ligands that are non-native to the protein. For that we will extract a ligand from PDB code: 4AGO and put it in our preprocessed 4AGM entry."
   ]
  },
  {
   "cell_type": "code",
   "execution_count": 8,
   "id": "429747e5",
   "metadata": {
    "colab": {
     "base_uri": "https://localhost:8080/",
     "height": 675
    },
    "executionInfo": {
     "elapsed": 3339,
     "status": "ok",
     "timestamp": 1654594399759,
     "user": {
      "displayName": "jochen sieg",
      "userId": "03823483447926121904"
     },
     "user_tz": -120
    },
    "id": "429747e5",
    "outputId": "2122c5c7-2ed5-433a-b373-d78c5f7174e7"
   },
   "outputs": [
    {
     "name": "stdout",
     "output_type": "stream",
     "text": [
      "Job 20ffbd14-b57e-426e-adb5-19dd3ba400a3 completed with success\n",
      "Job 41034257-cc5e-45cc-ba66-86e50225a0c9 completed with success\n",
      "https://proteins.plus/static/media/poseview/tmp2g7dttet.svg\n"
     ]
    },
    {
     "data": {
      "text/html": [
       "<img src=\"https://proteins.plus/static/media/poseview/tmp2g7dttet.svg\" width=\"600\" height=\"600\"/>"
      ],
      "text/plain": [
       "<IPython.core.display.Image object>"
      ]
     },
     "execution_count": 8,
     "metadata": {},
     "output_type": "execute_result"
    }
   ],
   "source": [
    "# preprocess 4AGO\n",
    "query = {'pdb_code': '4ago'}\n",
    "preprocessing_job_submission = requests.post(UPLOAD, data=query).json()\n",
    "preprocessing_job = poll_job(preprocessing_job_submission['job_id'], UPLOAD_JOBS)\n",
    "other_protein = requests.get(PROTEINS + preprocessing_job['output_protein'] + '/').json()\n",
    "other_ligands = [requests.get(LIGANDS + ligand_id + '/').json() for ligand_id in other_protein['ligand_set']]\n",
    "\n",
    "# submit the preprocessed 4AGM from before and a ligand from 4AGO\n",
    "query = {'protein_id': protein['id'], 'ligand_id': other_ligands[0]['id']}\n",
    "job_submission = requests.post(POSEVIEW, data=query).json()\n",
    "poseview_job = poll_job(job_submission['job_id'], POSEVIEW_JOBS)\n",
    "print(poseview_job['image'])\n",
    "Image(url=poseview_job['image'], width=600, height=600)  # freely scalabe SVG"
   ]
  },
  {
   "cell_type": "markdown",
   "id": "2dc65318",
   "metadata": {
    "id": "2dc65318"
   },
   "source": [
    "The above picture is of P74 from 4AGO in 4AGM. You could do similar operations with, for example, poses from a docking."
   ]
  }
 ],
 "metadata": {
  "colab": {
   "collapsed_sections": [],
   "name": "PoseView_example.ipynb",
   "provenance": []
  },
  "kernelspec": {
   "display_name": "Python 3 (ipykernel)",
   "language": "python",
   "name": "python3"
  },
  "language_info": {
   "codemirror_mode": {
    "name": "ipython",
    "version": 3
   },
   "file_extension": ".py",
   "mimetype": "text/x-python",
   "name": "python",
   "nbconvert_exporter": "python",
   "pygments_lexer": "ipython3",
   "version": "3.7.12"
  }
 },
 "nbformat": 4,
 "nbformat_minor": 5
}
