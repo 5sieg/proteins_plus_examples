{
 "cells": [
  {
   "cell_type": "markdown",
   "id": "639e7498",
   "metadata": {},
   "source": [
    "# PoseView: Molecular Interaction Patterns at a Glance\n",
    "This notebook will introduce the proteins.plus API endpoints for Poseview. In general we will need a protein and a ligand to generate 2D projections of protein-ligand interactions. The ligand does not need to be the native ligand and can be anywhere relative to the protein as long as it is meaningful to you.\n",
    "\n",
    "*Katrin Stierand and Matthias Rarey\n",
    "Journal of Cheminformatics 2010, 2, No. 1 p. P50\n",
    "[https://doi.org/10.1186/1758-2946-2-S1-P50](https://doi.org/10.1186/1758-2946-2-S1-P50)*"
   ]
  },
  {
   "cell_type": "code",
   "execution_count": 1,
   "id": "ad1fa243",
   "metadata": {},
   "outputs": [
    {
     "data": {
      "application/vnd.jupyter.widget-view+json": {
       "model_id": "4c07660994c245b195e53982e23219b1",
       "version_major": 2,
       "version_minor": 0
      },
      "text/plain": []
     },
     "metadata": {},
     "output_type": "display_data"
    }
   ],
   "source": [
    "# imports\n",
    "import io\n",
    "from pathlib import Path\n",
    "import requests\n",
    "import sys\n",
    "import time\n",
    "from urllib.parse import urljoin\n",
    "\n",
    "from IPython.display import Image\n",
    "from Bio.PDB import PDBParser\n",
    "import nglview as nv\n",
    "from rdkit import Chem"
   ]
  },
  {
   "cell_type": "code",
   "execution_count": 2,
   "id": "9c7f9a87",
   "metadata": {},
   "outputs": [],
   "source": [
    "# constants\n",
    "TEST_FILES = Path('../test_files/')\n",
    "PROTEINS_PLUS_URL = 'http://localhost:8000/'\n",
    "UPLOAD = PROTEINS_PLUS_URL + 'molecule_handler/upload/'\n",
    "UPLOAD_JOBS = PROTEINS_PLUS_URL + 'molecule_handler/upload/jobs/'\n",
    "PROTEINS = PROTEINS_PLUS_URL + 'molecule_handler/proteins/'\n",
    "LIGANDS = PROTEINS_PLUS_URL + 'molecule_handler/ligands/'\n",
    "POSEVIEW = urljoin(PROTEINS_PLUS_URL, 'poseview/')\n",
    "POSEVIEW_JOBS = urljoin(PROTEINS_PLUS_URL, 'poseview/jobs/')"
   ]
  },
  {
   "cell_type": "code",
   "execution_count": 3,
   "id": "141675c0",
   "metadata": {},
   "outputs": [],
   "source": [
    "# utils\n",
    "\n",
    "# check server connection\n",
    "try:\n",
    "    response = requests.get(PROTEINS_PLUS_URL)\n",
    "except requests.ConnectionError as error:\n",
    "    if 'Connection refused' in str(error):\n",
    "        print('WARNING: could not establish a connection to the server', file=sys.stderr)\n",
    "    raise\n",
    "    \n",
    "def poll_job(job_id, poll_url, poll_interval=1, max_polls=10):\n",
    "    \"\"\"Poll the progress of a job\n",
    "    \n",
    "    Continuosly polls the server in regular intervals and updates the job information, especially the status.\n",
    "    \n",
    "    :param job_id: UUID of the job to poll\n",
    "    :type job_id: str\n",
    "    :param poll_url: URl to send the polling request to\n",
    "    :type poll_url: str\n",
    "    :param poll_interval: time interval between polls in seconds\n",
    "    :type poll_interval: int\n",
    "    :param max_polls: maximum number of times to poll before exiting\n",
    "    :type max_polls: int\n",
    "    :return: polled job\n",
    "    :rtype: dict\n",
    "    \"\"\"\n",
    "    job = requests.get(poll_url + job_id).json()\n",
    "    status = job['status']\n",
    "    current_poll = 0\n",
    "    while status == 'pending' or status == 'running':\n",
    "        print(f'Job {job_id} is { status }')\n",
    "        current_poll += 1\n",
    "        if current_poll >= max_polls:\n",
    "            print(f'Job {job_id} has not completed after {max_polls} polling requests' \\\n",
    "                  f' and {poll_interval * max_polls} seconds')\n",
    "            return job\n",
    "        time.sleep(poll_interval)\n",
    "        job = requests.get(poll_url + job_id).json()\n",
    "        status = job['status']\n",
    "    print(f'Job {job_id} completed with { status }')\n",
    "    return job"
   ]
  },
  {
   "cell_type": "markdown",
   "id": "beefb16b",
   "metadata": {},
   "source": [
    "To get a PoseView picture of your binding site you can upload the protein and the ligand defining your binding site:"
   ]
  },
  {
   "cell_type": "code",
   "execution_count": 4,
   "id": "639bd5e3",
   "metadata": {},
   "outputs": [
    {
     "name": "stdout",
     "output_type": "stream",
     "text": [
      "Job 2f20e66f-f40f-4f29-9a2b-cbdc337a5cb7 completed with success\n",
      "http://localhost:8000/media/poseview/tmp7kl7m3o6.svg\n"
     ]
    },
    {
     "data": {
      "text/html": [
       "<img src=\"http://localhost:8000/media/poseview/tmp7kl7m3o6.svg\" width=\"600\" height=\"600\"/>"
      ],
      "text/plain": [
       "<IPython.core.display.Image object>"
      ]
     },
     "execution_count": 4,
     "metadata": {},
     "output_type": "execute_result"
    }
   ],
   "source": [
    "with open(TEST_FILES / 'NXG_A_1294.sdf') as upload_ligand_file:\n",
    "    with open(TEST_FILES / '4agn.pdb') as upload_file:\n",
    "        query = {'protein_file': upload_file, 'ligand_file': upload_ligand_file}\n",
    "        job_submission = requests.post(POSEVIEW, files=query).json()\n",
    "poseview_job = poll_job(job_submission['job_id'], POSEVIEW_JOBS)\n",
    "print(poseview_job['image'])\n",
    "Image(url=poseview_job['image'], width=600, height=600)  # freely scalabe SVG"
   ]
  },
  {
   "cell_type": "markdown",
   "id": "d7b7ee54",
   "metadata": {},
   "source": [
    "PoseView images are freely scalable and editable SVGs. The PoseView job model contains a URL to the actual image. If you want to keep the image please download the image (ex. you could \"right click\" -> \"save target as\" the URL above).\n",
    "\n",
    "You can also use the preprocessor to split ligands from an uploaded protein file and then use one of them to generate a PoseView image with. Here we will upload the same file but to the preprocessor:"
   ]
  },
  {
   "cell_type": "code",
   "execution_count": 5,
   "id": "9add3035",
   "metadata": {},
   "outputs": [
    {
     "name": "stdout",
     "output_type": "stream",
     "text": [
      "Job 297a31fc-b3ef-4347-9a73-3676b01aaf20 completed with success\n"
     ]
    }
   ],
   "source": [
    "with open(TEST_FILES / '4agn.pdb') as upload_file:\n",
    "    query = {'protein_file': upload_file}\n",
    "    preprocessing_job_submission = requests.post(UPLOAD, files=query).json()\n",
    "preprocessing_job = poll_job(preprocessing_job_submission['job_id'], UPLOAD_JOBS)"
   ]
  },
  {
   "cell_type": "markdown",
   "id": "dfc6b8bb",
   "metadata": {},
   "source": [
    "Then instead of taking the ligand of the A chain we will take the ligand of the B chain and generate a PoseView image for it:"
   ]
  },
  {
   "cell_type": "code",
   "execution_count": 6,
   "id": "82b308ac",
   "metadata": {},
   "outputs": [
    {
     "name": "stdout",
     "output_type": "stream",
     "text": [
      "Job f55040ca-a38c-4780-8fe6-4427b439144b completed with success\n",
      "http://localhost:8000/media/poseview/tmp8yqy2i62.svg\n"
     ]
    },
    {
     "data": {
      "text/html": [
       "<img src=\"http://localhost:8000/media/poseview/tmp8yqy2i62.svg\" width=\"600\" height=\"600\"/>"
      ],
      "text/plain": [
       "<IPython.core.display.Image object>"
      ]
     },
     "execution_count": 6,
     "metadata": {},
     "output_type": "execute_result"
    }
   ],
   "source": [
    "protein = requests.get(PROTEINS + preprocessing_job['output_protein']).json()\n",
    "ligands = [requests.get(LIGANDS + ligand_id).json() for ligand_id in protein['ligand_set']]\n",
    "for ligand in ligands:\n",
    "    if ligand['name'] == 'NXG_B_1292':  # get the ligand of the B chain\n",
    "        other_ligand = ligand\n",
    "        break\n",
    "\n",
    "query = {'protein_id': protein['id'], 'ligand_id': ligand['id']}\n",
    "job_submission = requests.post(POSEVIEW, data=query).json()\n",
    "poseview_job = poll_job(job_submission['job_id'], POSEVIEW_JOBS)\n",
    "print(poseview_job['image'])\n",
    "Image(url=poseview_job['image'], width=600, height=600)  # freely scalabe SVG"
   ]
  },
  {
   "cell_type": "markdown",
   "id": "0271f36f",
   "metadata": {},
   "source": [
    "The image is nearly the same but this time with references to B chain residues.\n",
    "\n",
    "Another thing we can do is generate PoseView images for ligands that are non-native to the protein. For that we will extract a ligand from PDB code: 4AGO and put it in our preprocessed 4AGM entry."
   ]
  },
  {
   "cell_type": "code",
   "execution_count": 7,
   "id": "429747e5",
   "metadata": {},
   "outputs": [
    {
     "name": "stdout",
     "output_type": "stream",
     "text": [
      "Job 6e3b7bab-b3e9-4ad8-8a79-1ff398d3037e completed with success\n",
      "Job b2f11e52-6a46-44c3-8f61-4c4030227232 completed with success\n",
      "http://localhost:8000/media/poseview/tmpfnfo6818.svg\n"
     ]
    },
    {
     "data": {
      "text/html": [
       "<img src=\"http://localhost:8000/media/poseview/tmpfnfo6818.svg\" width=\"600\" height=\"600\"/>"
      ],
      "text/plain": [
       "<IPython.core.display.Image object>"
      ]
     },
     "execution_count": 7,
     "metadata": {},
     "output_type": "execute_result"
    }
   ],
   "source": [
    "# preprocess 4AGO\n",
    "query = {'pdb_code': '4ago'}\n",
    "preprocessing_job_submission = requests.post(UPLOAD, data=query).json()\n",
    "preprocessing_job = poll_job(preprocessing_job_submission['job_id'], UPLOAD_JOBS)\n",
    "other_protein = requests.get(PROTEINS + preprocessing_job['output_protein']).json()\n",
    "other_ligands = [requests.get(LIGANDS + ligand_id).json() for ligand_id in other_protein['ligand_set']]\n",
    "\n",
    "# submit the preprocessed 4AGM from before and a ligand from 4AGO\n",
    "query = {'protein_id': protein['id'], 'ligand_id': other_ligands[0]['id']}\n",
    "job_submission = requests.post(POSEVIEW, data=query).json()\n",
    "poseview_job = poll_job(job_submission['job_id'], POSEVIEW_JOBS)\n",
    "print(poseview_job['image'])\n",
    "Image(url=poseview_job['image'], width=600, height=600)  # freely scalabe SVG"
   ]
  },
  {
   "cell_type": "markdown",
   "id": "2dc65318",
   "metadata": {},
   "source": [
    "The above picture is of P74 from 4AGO in 4AGM. You could do similar operations with, for example, poses from a docking."
   ]
  }
 ],
 "metadata": {
  "kernelspec": {
   "display_name": "Python 3 (ipykernel)",
   "language": "python",
   "name": "python3"
  },
  "language_info": {
   "codemirror_mode": {
    "name": "ipython",
    "version": 3
   },
   "file_extension": ".py",
   "mimetype": "text/x-python",
   "name": "python",
   "nbconvert_exporter": "python",
   "pygments_lexer": "ipython3",
   "version": "3.7.12"
  }
 },
 "nbformat": 4,
 "nbformat_minor": 5
}
