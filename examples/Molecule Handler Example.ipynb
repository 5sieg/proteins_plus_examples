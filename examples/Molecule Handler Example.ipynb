{
 "cells": [
  {
   "cell_type": "code",
   "execution_count": 1,
   "id": "770eebc1",
   "metadata": {},
   "outputs": [
    {
     "data": {
      "application/vnd.jupyter.widget-view+json": {
       "model_id": "9dd2942c6d384cffbd38e1f716aeb8a8",
       "version_major": 2,
       "version_minor": 0
      },
      "text/plain": []
     },
     "metadata": {},
     "output_type": "display_data"
    }
   ],
   "source": [
    "# imports\n",
    "import io\n",
    "from pathlib import Path\n",
    "import requests\n",
    "import sys\n",
    "import time\n",
    "from urllib.parse import urljoin\n",
    "\n",
    "from IPython.display import Image\n",
    "from Bio.PDB import PDBParser\n",
    "import nglview as nv\n",
    "from rdkit import Chem"
   ]
  },
  {
   "cell_type": "code",
   "execution_count": 2,
   "id": "c0c8c836",
   "metadata": {},
   "outputs": [],
   "source": [
    "# constants\n",
    "TEST_FILES = Path('../test_files/')\n",
    "PROTEINS_PLUS_URL = 'http://localhost:8000/'\n",
    "UPLOAD = urljoin(PROTEINS_PLUS_URL, 'molecule_handler/upload/')\n",
    "UPLOAD_JOBS = urljoin(PROTEINS_PLUS_URL, 'molecule_handler/upload/jobs/')\n",
    "PROTEINS = urljoin(PROTEINS_PLUS_URL, 'molecule_handler/proteins/')\n",
    "LIGANDS = urljoin(PROTEINS_PLUS_URL, 'molecule_handler/ligands/')\n",
    "PROTOSS = urljoin(PROTEINS_PLUS_URL, 'protoss/')\n",
    "PROTOSS_JOBS = urljoin(PROTEINS_PLUS_URL, 'protoss/jobs/')"
   ]
  },
  {
   "cell_type": "code",
   "execution_count": 3,
   "id": "eb91ddbd",
   "metadata": {},
   "outputs": [],
   "source": [
    "# utils\n",
    "\n",
    "# check server connection\n",
    "try:\n",
    "    response = requests.get(PROTEINS_PLUS_URL)\n",
    "except requests.ConnectionError as error:\n",
    "    if 'Connection refused' in str(error):\n",
    "        print('WARNING: could not establish a connection to the server', file=sys.stderr)\n",
    "    raise\n",
    "    \n",
    "def poll_job(job_id, poll_url, poll_interval=1, max_polls=10):\n",
    "    \"\"\"Poll the progress of a job\n",
    "    \n",
    "    Continuosly polls the server in regular intervals and updates the job information, especially the status.\n",
    "    \n",
    "    :param job_id: UUID of the job to poll\n",
    "    :type job_id: str\n",
    "    :param poll_url: URl to send the polling request to\n",
    "    :type poll_url: str\n",
    "    :param poll_interval: time interval between polls in seconds\n",
    "    :type poll_interval: int\n",
    "    :param max_polls: maximum number of times to poll before exiting\n",
    "    :type max_polls: int\n",
    "    :return: polled job\n",
    "    :rtype: dict\n",
    "    \"\"\"\n",
    "    job = requests.get(poll_url + job_id).json()\n",
    "    status = job['status']\n",
    "    current_poll = 0\n",
    "    while status == 'pending' or status == 'running':\n",
    "        print(f'Job {job_id} is { status }')\n",
    "        current_poll += 1\n",
    "        if current_poll >= max_polls:\n",
    "            print(f'Job {job_id} has not completed after {max_polls} polling requests' \\\n",
    "                  f' and {poll_interval * max_polls} seconds')\n",
    "            return job\n",
    "        time.sleep(poll_interval)\n",
    "        job = requests.get(poll_url + job_id).json()\n",
    "        status = job['status']\n",
    "    print(f'Job {job_id} completed with { status }')\n",
    "    return job\n",
    "\n",
    "def print_data_fields(model):\n",
    "    \"\"\"Print the fields of a model\n",
    "    \n",
    "    :param model: data model\n",
    "    :type model: dict\n",
    "    \"\"\"\n",
    "    for field in model.keys():\n",
    "        print(f' - \"{field}\"')"
   ]
  },
  {
   "cell_type": "markdown",
   "id": "907cbc4d",
   "metadata": {},
   "source": [
    "The molecule handler is an entrypoint to working with molecular data. It is largely optional because most other API calls can be made without a round trip to the molecule handler. It will register a protein in the database so that it can be referred to by only its ID. It will also detect ligands and generate 2D images for them.\n",
    "\n",
    "Let's start with a PDB entry. To work with a PDB entry we only need to POST the PDB code to the server and it will query the PDB for us."
   ]
  },
  {
   "cell_type": "code",
   "execution_count": 4,
   "id": "e70dd6ee",
   "metadata": {},
   "outputs": [],
   "source": [
    "query = {'pdb_code': '4agm'}\n",
    "job_submission = requests.post(UPLOAD, data=query).json()"
   ]
  },
  {
   "cell_type": "markdown",
   "id": "9aa8423b",
   "metadata": {},
   "source": [
    "This call is equivalent to the following file upload:"
   ]
  },
  {
   "cell_type": "code",
   "execution_count": 5,
   "id": "9f61567c",
   "metadata": {},
   "outputs": [],
   "source": [
    "# with open(TEST_FILES / '4agm.pdb') as upload_file:\n",
    "#     query = {'protein_file': upload_file}\n",
    "#     job_submission = requests.post(UPLOAD, files=query).json()"
   ]
  },
  {
   "cell_type": "markdown",
   "id": "d162e434",
   "metadata": {},
   "source": [
    "We have immediately parsed the JSON response and can now keep working with a python dict containing the job submission data."
   ]
  },
  {
   "cell_type": "code",
   "execution_count": 6,
   "id": "9318a1f8",
   "metadata": {},
   "outputs": [
    {
     "name": "stdout",
     "output_type": "stream",
     "text": [
      "Job 6f8eec30-443a-4467-bb76-80e1b362981b could be retrieved from cache\n"
     ]
    }
   ],
   "source": [
    "job_id = job_submission['job_id']\n",
    "if job_submission['retrieved_from_cache']:\n",
    "    print(f'Job {job_id} could be retrieved from cache')"
   ]
  },
  {
   "cell_type": "markdown",
   "id": "80219049",
   "metadata": {},
   "source": [
    "The job submission data contains the job ID (a UUID) and the information whether the job was retrieved from cache. Caching jobs saves the server and you a lot of CPU time. Chances are, if you are working on a PDB entry, it may already have been processed and you can retrieve it instantly. Let's do that now:"
   ]
  },
  {
   "cell_type": "code",
   "execution_count": 7,
   "id": "8041972c",
   "metadata": {},
   "outputs": [
    {
     "name": "stdout",
     "output_type": "stream",
     "text": [
      "Job 6f8eec30-443a-4467-bb76-80e1b362981b completed with success\n",
      "Job data fields:\n",
      " - \"id\"\n",
      " - \"status\"\n",
      " - \"date_created\"\n",
      " - \"date_last_accessed\"\n",
      " - \"error\"\n",
      " - \"protein_name\"\n",
      " - \"pdb_code\"\n",
      " - \"output_protein\"\n",
      " - \"protein_string\"\n",
      " - \"ligand_string\"\n",
      "\n",
      "Preprocessed protein ID: 403bf8fb-f5c3-42db-8ca7-1e2946695ee9\n"
     ]
    }
   ],
   "source": [
    "job = poll_job(job_id, UPLOAD_JOBS)\n",
    "print('Job data fields:')\n",
    "print_data_fields(job)\n",
    "    \n",
    "print()\n",
    "protein_id = job['output_protein']\n",
    "print(f'Preprocessed protein ID: {protein_id}')"
   ]
  },
  {
   "cell_type": "markdown",
   "id": "b4379b75",
   "metadata": {},
   "source": [
    "A job has a number of data fields, many of which are shared across jobs, such as \"status\" or \"date_created\". You can find a full list of fields in the [reference documentation](http://localhost:8000/api/schema/swagger-ui/). In this case we have preprocessed a PDB entry and so are interested in the \"output_protein\". This will be the ID of our protein. Let's retrieve our protein:"
   ]
  },
  {
   "cell_type": "code",
   "execution_count": 8,
   "id": "15c75e2f",
   "metadata": {},
   "outputs": [
    {
     "name": "stdout",
     "output_type": "stream",
     "text": [
      "Protein data fields:\n",
      " - \"id\"\n",
      " - \"name\"\n",
      " - \"pdb_code\"\n",
      " - \"file_type\"\n",
      " - \"ligand_set\"\n",
      " - \"file_string\"\n",
      " - \"date_created\"\n",
      " - \"date_last_accessed\"\n"
     ]
    }
   ],
   "source": [
    "protein = requests.get(PROTEINS + protein_id).json()\n",
    "print('Protein data fields:')\n",
    "print_data_fields(protein)"
   ]
  },
  {
   "cell_type": "markdown",
   "id": "a254bfa4",
   "metadata": {},
   "source": [
    "As you can see the protein has a \"file_string\". We can use these to load the protein with biopython and display it in nglview:"
   ]
  },
  {
   "cell_type": "code",
   "execution_count": 9,
   "id": "3374dafa",
   "metadata": {},
   "outputs": [
    {
     "name": "stderr",
     "output_type": "stream",
     "text": [
      "/ssd_local/penner/miniconda/envs/examples/lib/python3.7/site-packages/Bio/PDB/StructureBuilder.py:92: PDBConstructionWarning: WARNING: Chain A is discontinuous at line 3771.\n",
      "  PDBConstructionWarning,\n",
      "/ssd_local/penner/miniconda/envs/examples/lib/python3.7/site-packages/Bio/PDB/StructureBuilder.py:92: PDBConstructionWarning: WARNING: Chain B is discontinuous at line 3772.\n",
      "  PDBConstructionWarning,\n",
      "/ssd_local/penner/miniconda/envs/examples/lib/python3.7/site-packages/Bio/PDB/StructureBuilder.py:92: PDBConstructionWarning: WARNING: Chain A is discontinuous at line 3773.\n",
      "  PDBConstructionWarning,\n",
      "/ssd_local/penner/miniconda/envs/examples/lib/python3.7/site-packages/Bio/PDB/StructureBuilder.py:92: PDBConstructionWarning: WARNING: Chain B is discontinuous at line 4077.\n",
      "  PDBConstructionWarning,\n"
     ]
    },
    {
     "data": {
      "application/vnd.jupyter.widget-view+json": {
       "model_id": "5ae38c295102404fa28da6f2bb6031e9",
       "version_major": 2,
       "version_minor": 0
      },
      "text/plain": [
       "NGLWidget()"
      ]
     },
     "metadata": {},
     "output_type": "display_data"
    }
   ],
   "source": [
    "protein_file = io.StringIO(protein['file_string'])\n",
    "protein_structure = PDBParser().get_structure(protein['name'], protein_file)\n",
    "view = nv.show_biopython(protein_structure)\n",
    "view.add_representation(repr_type='ball+stick', selection='protein')\n",
    "view"
   ]
  },
  {
   "cell_type": "markdown",
   "id": "0da34367",
   "metadata": {},
   "source": [
    "You can see that we're missing the ligands in the structure. The ligands are associated with the protein over the \"ligand_set\" field. Let's retrieve them:"
   ]
  },
  {
   "cell_type": "code",
   "execution_count": 10,
   "id": "1eacda6f",
   "metadata": {},
   "outputs": [
    {
     "name": "stdout",
     "output_type": "stream",
     "text": [
      "Ligand IDs: ['62af3113-6ff7-487e-9664-6347d0e4d8eb', 'bfa44f98-71b1-45e4-a68e-3ccc13f792f0']\n"
     ]
    },
    {
     "data": {
      "text/html": [
       "<img src=\"http://localhost:8000/media/ligands/P86_B_400_62af3113-6ff7-487e-9664-6347d0e4d8eb.svg\" width=\"400\" height=\"400\"/>"
      ],
      "text/plain": [
       "<IPython.core.display.Image object>"
      ]
     },
     "execution_count": 10,
     "metadata": {},
     "output_type": "execute_result"
    }
   ],
   "source": [
    "print('Ligand IDs: ' + str(protein['ligand_set']))\n",
    "ligand = requests.get(LIGANDS + protein['ligand_set'][0]).json()  # get the first ligand\n",
    "other_ligand = requests.get(LIGANDS + protein['ligand_set'][1]).json()  # get the second ligand\n",
    "Image(url=ligand['image'], width=400, height=400)  # freely scalabe SVG"
   ]
  },
  {
   "cell_type": "markdown",
   "id": "a4e36cdb",
   "metadata": {},
   "source": [
    "Preprocessing a structure splits the ligands from the protein and tries to generate 2D images for them. We can also load these into nglview:"
   ]
  },
  {
   "cell_type": "code",
   "execution_count": 11,
   "id": "2fb693fb",
   "metadata": {},
   "outputs": [
    {
     "data": {
      "application/vnd.jupyter.widget-view+json": {
       "model_id": "9f56136e595244d987ef999b19b28158",
       "version_major": 2,
       "version_minor": 0
      },
      "text/plain": [
       "NGLWidget()"
      ]
     },
     "metadata": {},
     "output_type": "display_data"
    }
   ],
   "source": [
    "ligand_structure = Chem.MolFromMolBlock(ligand['file_string'], removeHs=False)\n",
    "other_ligand_structure = Chem.MolFromMolBlock(other_ligand['file_string'], removeHs=False)\n",
    "\n",
    "view = nv.NGLWidget()\n",
    "view.add_structure(nv.RdkitStructure(ligand_structure))\n",
    "view.add_structure(nv.RdkitStructure(other_ligand_structure))\n",
    "view.add_structure(nv.BiopythonStructure(protein_structure))\n",
    "view"
   ]
  },
  {
   "cell_type": "markdown",
   "id": "f029ed36",
   "metadata": {},
   "source": [
    "We can use the IDs of the ligands and the protein for other tools on the [proteins.plus](proteins.plus), for example protoss:"
   ]
  },
  {
   "cell_type": "code",
   "execution_count": 12,
   "id": "e742d28e",
   "metadata": {},
   "outputs": [
    {
     "name": "stdout",
     "output_type": "stream",
     "text": [
      "Job 77a71fc0-2ddd-4bb3-859b-63c4f2c05cb8 completed with success\n"
     ]
    },
    {
     "name": "stderr",
     "output_type": "stream",
     "text": [
      "/ssd_local/penner/miniconda/envs/examples/lib/python3.7/site-packages/Bio/PDB/StructureBuilder.py:92: PDBConstructionWarning: WARNING: Chain A is discontinuous at line 6146.\n",
      "  PDBConstructionWarning,\n",
      "/ssd_local/penner/miniconda/envs/examples/lib/python3.7/site-packages/Bio/PDB/StructureBuilder.py:92: PDBConstructionWarning: WARNING: Chain B is discontinuous at line 6147.\n",
      "  PDBConstructionWarning,\n",
      "/ssd_local/penner/miniconda/envs/examples/lib/python3.7/site-packages/Bio/PDB/StructureBuilder.py:92: PDBConstructionWarning: WARNING: Chain A is discontinuous at line 6148.\n",
      "  PDBConstructionWarning,\n",
      "/ssd_local/penner/miniconda/envs/examples/lib/python3.7/site-packages/Bio/PDB/StructureBuilder.py:92: PDBConstructionWarning: WARNING: Chain B is discontinuous at line 7060.\n",
      "  PDBConstructionWarning,\n"
     ]
    },
    {
     "data": {
      "application/vnd.jupyter.widget-view+json": {
       "model_id": "cdca61bf18e04bb5b031405907d6cd71",
       "version_major": 2,
       "version_minor": 0
      },
      "text/plain": [
       "NGLWidget()"
      ]
     },
     "metadata": {},
     "output_type": "display_data"
    }
   ],
   "source": [
    "# run protoss on the server (detailed explanation in the protoss example)\n",
    "query = {'protein_id': protein['id']}  # our preprocessed protein ID\n",
    "protoss_job_submission = requests.post(PROTOSS, data=query).json()\n",
    "protoss_job = poll_job(protoss_job_submission['job_id'], PROTOSS_JOBS)\n",
    "protossed_protein = requests.get(PROTEINS + protoss_job['output_protein']).json()\n",
    "protossed_protein_file = io.StringIO(protossed_protein['file_string'])\n",
    "\n",
    "# load and visualize the protein with protoss hydrogens\n",
    "protossed_protein_structure = PDBParser().get_structure(protossed_protein['name'], protossed_protein_file)\n",
    "view = nv.show_biopython(protossed_protein_structure)\n",
    "view.add_representation(repr_type='ball+stick', selection='protein')\n",
    "view"
   ]
  },
  {
   "cell_type": "markdown",
   "id": "02f81336",
   "metadata": {},
   "source": [
    "Notice how all we had to do was give the server the ID of the protein. The server will keep such entries for about a week after they were last accessed."
   ]
  }
 ],
 "metadata": {
  "kernelspec": {
   "display_name": "Python 3 (ipykernel)",
   "language": "python",
   "name": "python3"
  },
  "language_info": {
   "codemirror_mode": {
    "name": "ipython",
    "version": 3
   },
   "file_extension": ".py",
   "mimetype": "text/x-python",
   "name": "python",
   "nbconvert_exporter": "python",
   "pygments_lexer": "ipython3",
   "version": "3.7.12"
  }
 },
 "nbformat": 4,
 "nbformat_minor": 5
}
