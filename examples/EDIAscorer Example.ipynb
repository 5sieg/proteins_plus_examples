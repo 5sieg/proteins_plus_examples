{
 "cells": [
  {
   "cell_type": "code",
   "execution_count": 1,
   "id": "8bcc0ac5",
   "metadata": {},
   "outputs": [
    {
     "data": {
      "application/vnd.jupyter.widget-view+json": {
       "model_id": "aa269e6cf12a42c08c175c22f5e8b5e5",
       "version_major": 2,
       "version_minor": 0
      },
      "text/plain": []
     },
     "metadata": {},
     "output_type": "display_data"
    }
   ],
   "source": [
    "# imports\n",
    "import io\n",
    "from pathlib import Path\n",
    "import requests\n",
    "import sys\n",
    "import time\n",
    "from urllib.parse import urljoin\n",
    "\n",
    "from Bio.PDB import PDBParser\n",
    "import nglview as nv"
   ]
  },
  {
   "cell_type": "code",
   "execution_count": 2,
   "id": "556bd672",
   "metadata": {},
   "outputs": [],
   "source": [
    "# constants\n",
    "TEST_FILES = Path('../test_files/')\n",
    "PROTEINS_PLUS_URL = 'http://localhost:8000/'\n",
    "UPLOAD = urljoin(PROTEINS_PLUS_URL, 'molecule_handler/upload/')\n",
    "UPLOAD_JOBS = urljoin(PROTEINS_PLUS_URL, 'molecule_handler/upload/jobs/')\n",
    "PROTEINS = urljoin(PROTEINS_PLUS_URL, 'molecule_handler/proteins/')\n",
    "LIGANDS = urljoin(PROTEINS_PLUS_URL, 'molecule_handler/ligands/')\n",
    "EDIA = urljoin(PROTEINS_PLUS_URL, 'ediascorer/')\n",
    "EDIA_JOBS = urljoin(PROTEINS_PLUS_URL, 'ediascorer/jobs/')\n",
    "ATOM_SCORES = urljoin(PROTEINS_PLUS_URL, 'ediascorer/scores/')"
   ]
  },
  {
   "cell_type": "code",
   "execution_count": 3,
   "id": "27dd4667",
   "metadata": {},
   "outputs": [],
   "source": [
    "# utils\n",
    "\n",
    "# check server connection\n",
    "try:\n",
    "    response = requests.get(PROTEINS_PLUS_URL)\n",
    "except requests.ConnectionError as error:\n",
    "    if 'Connection refused' in str(error):\n",
    "        print('WARNING: could not establish a connection to the server', file=sys.stderr)\n",
    "    raise\n",
    "\n",
    "# EDIA coloring for the NGL\n",
    "edia_color_func = '''\n",
    "  this.atomColor = function(atom){\n",
    "    if(atom.bfactor > 1) {\n",
    "      return 0x000AFF;\n",
    "    } else if(atom.bfactor > 0.85){\n",
    "      return 0x3C00FF;\n",
    "    } else if(atom.bfactor > 0.75) {\n",
    "      return 0xB400FF;\n",
    "    } else if(atom.bfactor > 0.65) {\n",
    "      return 0xF000FF;\n",
    "    } else if(atom.bfactor > 0.55) {\n",
    "      return 0xFF00D2;\n",
    "    } else if(atom.bfactor > 0.45) {\n",
    "      return 0xFF009E;\n",
    "    } else if(atom.bfactor > 0.25) {\n",
    "      return 0xFF0066\n",
    "    } else if(atom.bfactor >= 0) {\n",
    "      return 0xFF0000;\n",
    "    } else {\n",
    "      return 0xFFFFFF;\n",
    "    }\n",
    "  };\n",
    "'''\n",
    "nv.color.ColormakerRegistry.add_scheme_func('ediacolor', edia_color_func)\n",
    "    \n",
    "def poll_job(job_id, poll_url, poll_interval=1, max_polls=10):\n",
    "    \"\"\"Poll the progress of a job\n",
    "    \n",
    "    Continuosly polls the server in regular intervals and updates the job information, especially the status.\n",
    "    \n",
    "    :param job_id: UUID of the job to poll\n",
    "    :type job_id: str\n",
    "    :param poll_url: URl to send the polling request to\n",
    "    :type poll_url: str\n",
    "    :param poll_interval: time interval between polls in seconds\n",
    "    :type poll_interval: int\n",
    "    :param max_polls: maximum number of times to poll before exiting\n",
    "    :type max_polls: int\n",
    "    :return: polled job\n",
    "    :rtype: dict\n",
    "    \"\"\"\n",
    "    job = requests.get(poll_url + job_id).json()\n",
    "    status = job['status']\n",
    "    current_poll = 0\n",
    "    while status == 'pending' or status == 'running':\n",
    "        print(f'Job {job_id} is { status }')\n",
    "        current_poll += 1\n",
    "        if current_poll >= max_polls:\n",
    "            print(f'Job {job_id} has not completed after {max_polls} polling requests' \\\n",
    "                  f' and {poll_interval * max_polls} seconds')\n",
    "            return job\n",
    "        time.sleep(poll_interval)\n",
    "        job = requests.get(poll_url + job_id).json()\n",
    "        status = job['status']\n",
    "    print(f'Job {job_id} completed with { status }')\n",
    "    return job"
   ]
  },
  {
   "cell_type": "markdown",
   "id": "463c2ae8",
   "metadata": {},
   "source": [
    "EDIAscorer calcualtes atomwise electron density support scores. A full introduction into the method can be found in this [publication](https://doi.org/10.1021/acs.jcim.7b00391). Let's take a look at the electron density for a PDB entry.\n",
    "\n",
    "(Some of these nglviews are a bit unstable due to the amount of data involved. If you only see a white box try to execute the cells again and give them some time to load.)"
   ]
  },
  {
   "cell_type": "code",
   "execution_count": 4,
   "id": "20cb7e06",
   "metadata": {},
   "outputs": [
    {
     "name": "stderr",
     "output_type": "stream",
     "text": [
      "/ssd_local/penner/miniconda/envs/examples/lib/python3.7/site-packages/Bio/PDB/StructureBuilder.py:92: PDBConstructionWarning: WARNING: Chain A is discontinuous at line 3813.\n",
      "  PDBConstructionWarning,\n",
      "/ssd_local/penner/miniconda/envs/examples/lib/python3.7/site-packages/Bio/PDB/StructureBuilder.py:92: PDBConstructionWarning: WARNING: Chain B is discontinuous at line 3835.\n",
      "  PDBConstructionWarning,\n",
      "/ssd_local/penner/miniconda/envs/examples/lib/python3.7/site-packages/Bio/PDB/StructureBuilder.py:92: PDBConstructionWarning: WARNING: Chain A is discontinuous at line 3857.\n",
      "  PDBConstructionWarning,\n",
      "/ssd_local/penner/miniconda/envs/examples/lib/python3.7/site-packages/Bio/PDB/StructureBuilder.py:92: PDBConstructionWarning: WARNING: Chain B is discontinuous at line 4161.\n",
      "  PDBConstructionWarning,\n"
     ]
    },
    {
     "data": {
      "application/vnd.jupyter.widget-view+json": {
       "model_id": "2d65c45759174389902f7cbec762124c",
       "version_major": 2,
       "version_minor": 0
      },
      "text/plain": [
       "NGLWidget()"
      ]
     },
     "metadata": {},
     "output_type": "display_data"
    }
   ],
   "source": [
    "protein_structure = PDBParser().get_structure('4agm', TEST_FILES / '4agm.pdb')\n",
    "with open(TEST_FILES / '4agm.ccp4', 'rb') as density_file:\n",
    "    view = nv.show_file(density_file, ext='ccp4')\n",
    "view.add_component(nv.BiopythonStructure(protein_structure))\n",
    "view"
   ]
  },
  {
   "cell_type": "code",
   "execution_count": 5,
   "id": "abf42ccb",
   "metadata": {},
   "outputs": [],
   "source": [
    "# Give it a few seconds to load. If the view above is a white box execute the previous and this snippet again.\n",
    "view.clear_representations()\n",
    "view.add_surface(wrap=True, contour=True, color=\"skyblue\", opacity=0.8)"
   ]
  },
  {
   "cell_type": "markdown",
   "id": "63b6432e",
   "metadata": {},
   "source": [
    "As you can see parts of the ligands are supported by electron density and parts aren't. Let's use the EDIA to quantify this."
   ]
  },
  {
   "cell_type": "code",
   "execution_count": 6,
   "id": "528b7243",
   "metadata": {},
   "outputs": [
    {
     "name": "stdout",
     "output_type": "stream",
     "text": [
      "Job a28c9e9b-01be-4f3f-9c32-b77f82cd3ce9 completed with success\n"
     ]
    }
   ],
   "source": [
    "with open(TEST_FILES / '4agm.pdb') as upload_file:\n",
    "    query = {'protein_file': upload_file}\n",
    "    params = {'pdb_code': '4agm'}\n",
    "    edia_job_submission = requests.post(EDIA, data=params, files=query).json()\n",
    "# EDIA jobs can run for a long time. This may take 10 Minutes.\n",
    "edia_job = poll_job(edia_job_submission['job_id'], EDIA_JOBS, poll_interval=5, max_polls=1000)"
   ]
  },
  {
   "cell_type": "markdown",
   "id": "1bebc3a0",
   "metadata": {},
   "source": [
    "The call above sent the PDB file of 4AGM and a PDB code to the server. The PDB code is used to retrieve the density file. We could have also sent a local density file like this:"
   ]
  },
  {
   "cell_type": "code",
   "execution_count": 7,
   "id": "76312eec",
   "metadata": {},
   "outputs": [],
   "source": [
    "# with open(TEST_FILES / '4agm.pdb') as upload_file:\n",
    "#     with open(TEST_FILES / '4agm.ccp4', 'rb') as density_file:\n",
    "#         query = {'protein_file': upload_file, 'electron_density_map': density_file}\n",
    "#         edia_job_submission = requests.post(EDIA, files=query).json()\n",
    "# # EDIA jobs can run for a long time. This may take 10 Minutes.\n",
    "# edia_job = poll_job(edia_job_submission['job_id'], EDIA_JOBS, poll_interval=5, max_polls=1000)"
   ]
  },
  {
   "cell_type": "markdown",
   "id": "c7b097f6",
   "metadata": {},
   "source": [
    "The EDIAscorer produces two output the \"atom_scores\" and the \"output_protein\". The atom scores are a large map of EDIA values for every atom in the protein. These can be mapped back to protein atoms of the output protein."
   ]
  },
  {
   "cell_type": "code",
   "execution_count": 8,
   "id": "5fbe0052",
   "metadata": {},
   "outputs": [
    {
     "name": "stdout",
     "output_type": "stream",
     "text": [
      "Residue\tChain\tAtom\tEDIA\n",
      "P86\tA\tC01\t1.04\n",
      "P86\tA\tC1\t1.06\n",
      "P86\tA\tN1\t1.11\n",
      "P86\tA\tO1\t1.03\n",
      "P86\tA\tC02\t0.97\n",
      "P86\tA\tC2\t1\n",
      "P86\tA\tN2\t0.88\n",
      "P86\tA\tC03\t0.93\n",
      "P86\tA\tC3\t0.96\n",
      "P86\tA\tC4\t0.79\n",
      "P86\tA\tC7\t1\n",
      "P86\tA\tC8\t0.93\n",
      "P86\tA\tC10\t0.95\n",
      "P86\tA\tC11\t0.46\n",
      "P86\tA\tC12\t0\n",
      "P86\tA\tC13\t0.79\n",
      "P86\tA\tC14\t0.59\n",
      "P86\tA\tC15\t0.89\n",
      "P86\tA\tC16\t0.85\n",
      "P86\tA\tI1\t1.09\n",
      "P86\tA\tI2\t1.16\n",
      "P86\tB\tC01\t1.03\n",
      "P86\tB\tC1\t1.08\n",
      "P86\tB\tN1\t1.11\n",
      "P86\tB\tO1\t1.06\n",
      "P86\tB\tC02\t0.93\n",
      "P86\tB\tC2\t0.99\n",
      "P86\tB\tN2\t0.83\n",
      "P86\tB\tC03\t0.98\n",
      "P86\tB\tC3\t1.02\n",
      "P86\tB\tC4\t0.79\n",
      "P86\tB\tC7\t1.08\n",
      "P86\tB\tC8\t0.92\n",
      "P86\tB\tC10\t0.94\n",
      "P86\tB\tC11\t0.31\n",
      "P86\tB\tC12\t0.32\n",
      "P86\tB\tC13\t0.71\n",
      "P86\tB\tC14\t0.43\n",
      "P86\tB\tC15\t0.94\n",
      "P86\tB\tC16\t0.94\n",
      "P86\tB\tI1\t0.95\n",
      "P86\tB\tI2\t1.17\n"
     ]
    }
   ],
   "source": [
    "edia_scores = requests.get(ATOM_SCORES + edia_job['edia_scores']).json()\n",
    "atom_scores = edia_scores['atom_scores']\n",
    "output_protein = requests.get(PROTEINS + edia_job['output_protein']).json()\n",
    "\n",
    "print('Residue\\tChain\\tAtom\\tEDIA')\n",
    "# going line by line in the protein\n",
    "for line in output_protein['file_string'].split('\\n'):\n",
    "    if 'P86' in line:  # looking for the ligands\n",
    "        # get the atom serial number\n",
    "        atom_serial_number = line.split(' ')[1]\n",
    "        # use the atom serial number (as a string) to index the atom scores\n",
    "        atom_info = atom_scores[atom_serial_number]\n",
    "        print('\\t'.join([atom_info['Substructure name'], atom_info['Chain'], atom_info['Atom name'], atom_info['EDIA']]))\n",
    "        "
   ]
  },
  {
   "cell_type": "markdown",
   "id": "8c3aad50",
   "metadata": {},
   "source": [
    "EDIA values < 0.8 are minor inconsistencies, whereas EDIA values < 0.4 are substantial inconsistencies (more information in the [publication](https://doi.org/10.1021/acs.jcim.7b00391)). The raw values are helpful, but let's visualize the support for each atom:"
   ]
  },
  {
   "cell_type": "code",
   "execution_count": 9,
   "id": "0b767d02",
   "metadata": {},
   "outputs": [
    {
     "name": "stderr",
     "output_type": "stream",
     "text": [
      "/ssd_local/penner/miniconda/envs/examples/lib/python3.7/site-packages/Bio/PDB/StructureBuilder.py:92: PDBConstructionWarning: WARNING: Chain A is discontinuous at line 3103.\n",
      "  PDBConstructionWarning,\n",
      "/ssd_local/penner/miniconda/envs/examples/lib/python3.7/site-packages/Bio/PDB/StructureBuilder.py:92: PDBConstructionWarning: WARNING: Chain B is discontinuous at line 3125.\n",
      "  PDBConstructionWarning,\n",
      "/ssd_local/penner/miniconda/envs/examples/lib/python3.7/site-packages/Bio/PDB/StructureBuilder.py:92: PDBConstructionWarning: WARNING: Chain A is discontinuous at line 3147.\n",
      "  PDBConstructionWarning,\n",
      "/ssd_local/penner/miniconda/envs/examples/lib/python3.7/site-packages/Bio/PDB/StructureBuilder.py:92: PDBConstructionWarning: WARNING: Chain B is discontinuous at line 3451.\n",
      "  PDBConstructionWarning,\n"
     ]
    },
    {
     "data": {
      "application/vnd.jupyter.widget-view+json": {
       "model_id": "90f0fc8134bc4201a3d190ed11f270f5",
       "version_major": 2,
       "version_minor": 0
      },
      "text/plain": [
       "NGLWidget()"
      ]
     },
     "metadata": {},
     "output_type": "display_data"
    }
   ],
   "source": [
    "output_protein_file = io.StringIO(output_protein['file_string'])\n",
    "protein_structure = PDBParser().get_structure(output_protein['name'], output_protein_file)\n",
    "view = nv.show_biopython(protein_structure, color='ediacolor')\n",
    "view.clear_representations()\n",
    "view.add_cartoon(color='ediacolor')\n",
    "view.add_representation(repr_type='ball+stick', selection='ligand', color='ediacolor')\n",
    "view"
   ]
  },
  {
   "cell_type": "markdown",
   "id": "09cbdf11",
   "metadata": {},
   "source": [
    "The gradient purple to red shows well supported to poorly supported atoms. The red atoms of the ligands have low EDIA values in the raw value list and have little electron density associated with them in the above visualization of the electron density map.\n",
    "\n",
    "There is one more type of output information: EDIAm scores for all residues (and ligands) of a complex. These are summary EDIA scores for molecules. You can find these in the EDIA scores as \"structure_scores\". EDIAm scores of < 0.8 should raise concern. In this case we're seeing the flexible substituent that reaches outside of the pocket not being very well supported."
   ]
  },
  {
   "cell_type": "code",
   "execution_count": 10,
   "id": "eed0baef",
   "metadata": {},
   "outputs": [
    {
     "name": "stdout",
     "output_type": "stream",
     "text": [
      "Residue\tChain\tEDIAm\tMin EDIA\tMax EDIA\n",
      "P86\tA\t0.32\t0\t1.16\n",
      "P86\tB\t0.72\t0.31\t1.17\n"
     ]
    }
   ],
   "source": [
    "print('Residue\\tChain\\tEDIAm\\tMin EDIA\\tMax EDIA')\n",
    "structure_scores = edia_scores['structure_scores']\n",
    "for residue in structure_scores.keys():\n",
    "    if 'P86' in residue:\n",
    "        ligand_scores = structure_scores[residue]\n",
    "        print('\\t'.join([\n",
    "            ligand_scores['Name'],\n",
    "            ligand_scores['Chain'],\n",
    "            ligand_scores['EDIAm'],\n",
    "            ligand_scores['Min EDIA'],\n",
    "            ligand_scores['Max EDIA']\n",
    "        ]))"
   ]
  }
 ],
 "metadata": {
  "kernelspec": {
   "display_name": "Python 3 (ipykernel)",
   "language": "python",
   "name": "python3"
  },
  "language_info": {
   "codemirror_mode": {
    "name": "ipython",
    "version": 3
   },
   "file_extension": ".py",
   "mimetype": "text/x-python",
   "name": "python",
   "nbconvert_exporter": "python",
   "pygments_lexer": "ipython3",
   "version": "3.7.12"
  }
 },
 "nbformat": 4,
 "nbformat_minor": 5
}
