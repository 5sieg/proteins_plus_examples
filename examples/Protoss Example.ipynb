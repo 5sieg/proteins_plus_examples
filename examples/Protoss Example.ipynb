{
 "cells": [
  {
   "cell_type": "code",
   "execution_count": 1,
   "id": "385844a1",
   "metadata": {},
   "outputs": [
    {
     "data": {
      "application/vnd.jupyter.widget-view+json": {
       "model_id": "551aeb6748ec4ef286b385da6e36ca6f",
       "version_major": 2,
       "version_minor": 0
      },
      "text/plain": []
     },
     "metadata": {},
     "output_type": "display_data"
    }
   ],
   "source": [
    "# imports\n",
    "import io\n",
    "from pathlib import Path\n",
    "import requests\n",
    "import sys\n",
    "import time\n",
    "from urllib.parse import urljoin\n",
    "\n",
    "from IPython.display import Image\n",
    "from Bio.PDB import PDBParser\n",
    "import nglview as nv\n",
    "from rdkit import Chem"
   ]
  },
  {
   "cell_type": "code",
   "execution_count": 2,
   "id": "de279fba",
   "metadata": {},
   "outputs": [],
   "source": [
    "# constants\n",
    "TEST_FILES = Path('../test_files/')\n",
    "PROTEINS_PLUS_URL = 'http://localhost:8000/'\n",
    "UPLOAD = urljoin(PROTEINS_PLUS_URL, 'molecule_handler/upload/')\n",
    "UPLOAD_JOBS = urljoin(PROTEINS_PLUS_URL, 'molecule_handler/upload/jobs/')\n",
    "PROTEINS = urljoin(PROTEINS_PLUS_URL, 'molecule_handler/proteins/')\n",
    "LIGANDS = urljoin(PROTEINS_PLUS_URL, 'molecule_handler/ligands/')\n",
    "PROTOSS = urljoin(PROTEINS_PLUS_URL, 'protoss/')\n",
    "PROTOSS_JOBS = urljoin(PROTEINS_PLUS_URL, 'protoss/jobs/')"
   ]
  },
  {
   "cell_type": "code",
   "execution_count": 3,
   "id": "bc7f0460",
   "metadata": {},
   "outputs": [],
   "source": [
    "# utils\n",
    "\n",
    "# check server connection\n",
    "try:\n",
    "    response = requests.get(PROTEINS_PLUS_URL)\n",
    "except requests.ConnectionError as error:\n",
    "    if 'Connection refused' in str(error):\n",
    "        print('WARNING: could not establish a connection to the server', file=sys.stderr)\n",
    "    raise\n",
    "    \n",
    "def poll_job(job_id, poll_url, poll_interval=1, max_polls=10):\n",
    "    \"\"\"Poll the progress of a job\n",
    "    \n",
    "    Continuosly polls the server in regular intervals and updates the job information, especially the status.\n",
    "    \n",
    "    :param job_id: UUID of the job to poll\n",
    "    :type job_id: str\n",
    "    :param poll_url: URl to send the polling request to\n",
    "    :type poll_url: str\n",
    "    :param poll_interval: time interval between polls in seconds\n",
    "    :type poll_interval: int\n",
    "    :param max_polls: maximum number of times to poll before exiting\n",
    "    :type max_polls: int\n",
    "    :return: polled job\n",
    "    :rtype: dict\n",
    "    \"\"\"\n",
    "    job = requests.get(poll_url + job_id).json()\n",
    "    status = job['status']\n",
    "    current_poll = 0\n",
    "    while status == 'pending' or status == 'running':\n",
    "        print(f'Job {job_id} is { status }')\n",
    "        current_poll += 1\n",
    "        if current_poll >= max_polls:\n",
    "            print(f'Job {job_id} has not completed after {max_polls} polling requests' \\\n",
    "                  f' and {poll_interval * max_polls} seconds')\n",
    "            return job\n",
    "        time.sleep(poll_interval)\n",
    "        job = requests.get(poll_url + job_id).json()\n",
    "        status = job['status']\n",
    "    print(f'Job {job_id} completed with { status }')\n",
    "    return job"
   ]
  },
  {
   "cell_type": "markdown",
   "id": "d4e4c569",
   "metadata": {},
   "source": [
    "Protoss calculates hydrogen positions for proteins. You can find a detailed explanation of the method in this [publication](https://doi.org/10.1186/1758-2946-6-12).\n",
    "\n",
    "The following PDB file does not have any hydrogens:"
   ]
  },
  {
   "cell_type": "code",
   "execution_count": 4,
   "id": "6a6ca3ac",
   "metadata": {},
   "outputs": [
    {
     "name": "stderr",
     "output_type": "stream",
     "text": [
      "/ssd_local/penner/miniconda/envs/examples/lib/python3.7/site-packages/Bio/PDB/StructureBuilder.py:92: PDBConstructionWarning: WARNING: Chain A is discontinuous at line 3813.\n",
      "  PDBConstructionWarning,\n",
      "/ssd_local/penner/miniconda/envs/examples/lib/python3.7/site-packages/Bio/PDB/StructureBuilder.py:92: PDBConstructionWarning: WARNING: Chain B is discontinuous at line 3835.\n",
      "  PDBConstructionWarning,\n",
      "/ssd_local/penner/miniconda/envs/examples/lib/python3.7/site-packages/Bio/PDB/StructureBuilder.py:92: PDBConstructionWarning: WARNING: Chain A is discontinuous at line 3857.\n",
      "  PDBConstructionWarning,\n",
      "/ssd_local/penner/miniconda/envs/examples/lib/python3.7/site-packages/Bio/PDB/StructureBuilder.py:92: PDBConstructionWarning: WARNING: Chain B is discontinuous at line 4161.\n",
      "  PDBConstructionWarning,\n"
     ]
    },
    {
     "data": {
      "application/vnd.jupyter.widget-view+json": {
       "model_id": "9409a116f01343c4990048a6c438e790",
       "version_major": 2,
       "version_minor": 0
      },
      "text/plain": [
       "NGLWidget()"
      ]
     },
     "metadata": {},
     "output_type": "display_data"
    }
   ],
   "source": [
    "protein_structure = PDBParser().get_structure('4agm', TEST_FILES / '4agm.pdb')\n",
    "view = nv.show_biopython(protein_structure)\n",
    "view.add_representation(repr_type='ball+stick', selection='protein')\n",
    "view"
   ]
  },
  {
   "cell_type": "markdown",
   "id": "af6d0f5a",
   "metadata": {},
   "source": [
    "We can uplod a file and start a protoss job like this:"
   ]
  },
  {
   "cell_type": "code",
   "execution_count": 5,
   "id": "0985e3b9",
   "metadata": {},
   "outputs": [
    {
     "name": "stdout",
     "output_type": "stream",
     "text": [
      "Job 5f821d9b-4afa-410a-aff8-103a0a23046f completed with success\n"
     ]
    }
   ],
   "source": [
    "with open(TEST_FILES / '4agm.pdb') as upload_file:\n",
    "    query = {'protein_file': upload_file}\n",
    "    job_submission = requests.post(PROTOSS, files=query).json()\n",
    "protoss_job = poll_job(job_submission['job_id'], PROTOSS_JOBS)\n",
    "protossed_protein = requests.get(PROTEINS + protoss_job['output_protein']).json()"
   ]
  },
  {
   "cell_type": "markdown",
   "id": "ace0a4e9",
   "metadata": {},
   "source": [
    "As you can see the protein now has hydrogens:"
   ]
  },
  {
   "cell_type": "code",
   "execution_count": 6,
   "id": "b3534afd",
   "metadata": {},
   "outputs": [
    {
     "name": "stderr",
     "output_type": "stream",
     "text": [
      "/ssd_local/penner/miniconda/envs/examples/lib/python3.7/site-packages/Bio/PDB/StructureBuilder.py:92: PDBConstructionWarning: WARNING: Chain A is discontinuous at line 6146.\n",
      "  PDBConstructionWarning,\n",
      "/ssd_local/penner/miniconda/envs/examples/lib/python3.7/site-packages/Bio/PDB/StructureBuilder.py:92: PDBConstructionWarning: WARNING: Chain B is discontinuous at line 6193.\n",
      "  PDBConstructionWarning,\n",
      "/ssd_local/penner/miniconda/envs/examples/lib/python3.7/site-packages/Bio/PDB/StructureBuilder.py:92: PDBConstructionWarning: WARNING: Chain A is discontinuous at line 6240.\n",
      "  PDBConstructionWarning,\n",
      "/ssd_local/penner/miniconda/envs/examples/lib/python3.7/site-packages/Bio/PDB/StructureBuilder.py:92: PDBConstructionWarning: WARNING: Chain B is discontinuous at line 6241.\n",
      "  PDBConstructionWarning,\n",
      "/ssd_local/penner/miniconda/envs/examples/lib/python3.7/site-packages/Bio/PDB/StructureBuilder.py:92: PDBConstructionWarning: WARNING: Chain A is discontinuous at line 6242.\n",
      "  PDBConstructionWarning,\n",
      "/ssd_local/penner/miniconda/envs/examples/lib/python3.7/site-packages/Bio/PDB/StructureBuilder.py:92: PDBConstructionWarning: WARNING: Chain B is discontinuous at line 7154.\n",
      "  PDBConstructionWarning,\n"
     ]
    },
    {
     "data": {
      "application/vnd.jupyter.widget-view+json": {
       "model_id": "f31f0b225c5e4b548b4ab00dd5daa88c",
       "version_major": 2,
       "version_minor": 0
      },
      "text/plain": [
       "NGLWidget()"
      ]
     },
     "metadata": {},
     "output_type": "display_data"
    }
   ],
   "source": [
    "protein_file = io.StringIO(protossed_protein['file_string'])\n",
    "protein_structure = PDBParser().get_structure(protossed_protein['name'], protein_file)\n",
    "view = nv.show_biopython(protein_structure)\n",
    "view.add_representation(repr_type='ball+stick', selection='protein')\n",
    "view"
   ]
  },
  {
   "cell_type": "markdown",
   "id": "c0c00f08",
   "metadata": {},
   "source": [
    "Let's optimize the hydrogens for a non-native ligand. We will use the ligand NXG_A_1294 from PDB code: 4AGN and place it into 4AGM, replacing clashing ligands in the process:"
   ]
  },
  {
   "cell_type": "code",
   "execution_count": 7,
   "id": "4d3e74f7",
   "metadata": {},
   "outputs": [
    {
     "name": "stdout",
     "output_type": "stream",
     "text": [
      "Job 4f55a95e-9220-42b0-9032-1be675368748 completed with success\n"
     ]
    }
   ],
   "source": [
    "with open(TEST_FILES / 'NXG_A_1294.sdf') as upload_ligand_file:\n",
    "    with open(TEST_FILES / '4agm.pdb') as upload_file:\n",
    "        query = {'protein_file': upload_file, 'ligand_file': upload_ligand_file}\n",
    "        other_job_submission = requests.post(PROTOSS, files=query).json()\n",
    "other_protoss_job = poll_job(other_job_submission['job_id'], PROTOSS_JOBS)\n",
    "other_protossed_protein = requests.get(PROTEINS + other_protoss_job['output_protein']).json()\n",
    "other_protossed_ligand = requests.get(LIGANDS + other_protossed_protein['ligand_set'][0]).json()"
   ]
  },
  {
   "cell_type": "code",
   "execution_count": 8,
   "id": "fa834f36",
   "metadata": {},
   "outputs": [
    {
     "name": "stderr",
     "output_type": "stream",
     "text": [
      "/ssd_local/penner/miniconda/envs/examples/lib/python3.7/site-packages/Bio/PDB/StructureBuilder.py:92: PDBConstructionWarning: WARNING: Chain A is discontinuous at line 6193.\n",
      "  PDBConstructionWarning,\n",
      "/ssd_local/penner/miniconda/envs/examples/lib/python3.7/site-packages/Bio/PDB/StructureBuilder.py:92: PDBConstructionWarning: WARNING: Chain B is discontinuous at line 6194.\n",
      "  PDBConstructionWarning,\n",
      "/ssd_local/penner/miniconda/envs/examples/lib/python3.7/site-packages/Bio/PDB/StructureBuilder.py:92: PDBConstructionWarning: WARNING: Chain A is discontinuous at line 6195.\n",
      "  PDBConstructionWarning,\n",
      "/ssd_local/penner/miniconda/envs/examples/lib/python3.7/site-packages/Bio/PDB/StructureBuilder.py:92: PDBConstructionWarning: WARNING: Chain B is discontinuous at line 7107.\n",
      "  PDBConstructionWarning,\n"
     ]
    },
    {
     "data": {
      "application/vnd.jupyter.widget-view+json": {
       "model_id": "4bb7396242284b989a73de9eef15c8f1",
       "version_major": 2,
       "version_minor": 0
      },
      "text/plain": [
       "NGLWidget()"
      ]
     },
     "metadata": {},
     "output_type": "display_data"
    }
   ],
   "source": [
    "other_protein_file = io.StringIO(other_protossed_protein['file_string'])\n",
    "other_protein_structure = PDBParser().get_structure(other_protossed_protein['name'], other_protein_file)\n",
    "ligand_structure = Chem.MolFromMolBlock(other_protossed_ligand['file_string'], removeHs=False)\n",
    "\n",
    "view = nv.show_biopython(other_protein_structure)\n",
    "# uncomment for protein hydrogens\n",
    "# view.add_representation(repr_type='ball+stick', selection='protein')\n",
    "view.add_structure(nv.RdkitStructure(ligand_structure))\n",
    "view"
   ]
  },
  {
   "cell_type": "markdown",
   "id": "33893c68",
   "metadata": {},
   "source": [
    "NXG_A_1294 overwrote one of the ligands in the PDB entry, but the other was kept. If you really want to completely remove all detected ligands you can preprocess the protein first and the submit the empty protein with a custom ligand to protoss:"
   ]
  },
  {
   "cell_type": "code",
   "execution_count": 9,
   "id": "0442af7c",
   "metadata": {},
   "outputs": [
    {
     "name": "stdout",
     "output_type": "stream",
     "text": [
      "Job f502685a-a37e-45d2-812c-de2efceb4dfb completed with success\n",
      "Job 7d3b8efe-3a27-461b-b750-aee6270ba6a9 completed with success\n"
     ]
    }
   ],
   "source": [
    "with open(TEST_FILES / '4agm.pdb') as upload_file:\n",
    "    query = {'protein_file': upload_file}\n",
    "    preprocessing_job_submission = requests.post(UPLOAD, files=query).json()\n",
    "preprocessing_job = poll_job(preprocessing_job_submission['job_id'], UPLOAD_JOBS)\n",
    "\n",
    "with open(TEST_FILES / 'NXG_A_1294.sdf') as upload_ligand_file:\n",
    "    query = {'ligand_file': upload_ligand_file}\n",
    "    params = {'protein_id': preprocessing_job['output_protein']}  # remember to pass params that aren't files as data\n",
    "    replacing_protoss_job_submission = requests.post(PROTOSS, data=params, files=query).json()\n",
    "replacing_protoss_job = poll_job(replacing_protoss_job_submission['job_id'], PROTOSS_JOBS)\n",
    "replaced_protossed_protein = requests.get(PROTEINS + replacing_protoss_job['output_protein']).json()\n",
    "replaced_protossed_ligand = requests.get(LIGANDS + replaced_protossed_protein['ligand_set'][0]).json()"
   ]
  },
  {
   "cell_type": "code",
   "execution_count": 10,
   "id": "4c6c0c5a",
   "metadata": {},
   "outputs": [
    {
     "name": "stderr",
     "output_type": "stream",
     "text": [
      "/ssd_local/penner/miniconda/envs/examples/lib/python3.7/site-packages/Bio/PDB/StructureBuilder.py:92: PDBConstructionWarning: WARNING: Chain A is discontinuous at line 6146.\n",
      "  PDBConstructionWarning,\n",
      "/ssd_local/penner/miniconda/envs/examples/lib/python3.7/site-packages/Bio/PDB/StructureBuilder.py:92: PDBConstructionWarning: WARNING: Chain B is discontinuous at line 6147.\n",
      "  PDBConstructionWarning,\n",
      "/ssd_local/penner/miniconda/envs/examples/lib/python3.7/site-packages/Bio/PDB/StructureBuilder.py:92: PDBConstructionWarning: WARNING: Chain A is discontinuous at line 6148.\n",
      "  PDBConstructionWarning,\n",
      "/ssd_local/penner/miniconda/envs/examples/lib/python3.7/site-packages/Bio/PDB/StructureBuilder.py:92: PDBConstructionWarning: WARNING: Chain B is discontinuous at line 7060.\n",
      "  PDBConstructionWarning,\n"
     ]
    },
    {
     "data": {
      "application/vnd.jupyter.widget-view+json": {
       "model_id": "db3d919e3483451baeb2e81addf18616",
       "version_major": 2,
       "version_minor": 0
      },
      "text/plain": [
       "NGLWidget()"
      ]
     },
     "metadata": {},
     "output_type": "display_data"
    }
   ],
   "source": [
    "replaced_protein_file = io.StringIO(replaced_protossed_protein['file_string'])\n",
    "replaced_protein_structure = PDBParser().get_structure(replaced_protossed_protein['name'], replaced_protein_file)\n",
    "replaced_ligand_structure = Chem.MolFromMolBlock(replaced_protossed_ligand['file_string'], removeHs=False)\n",
    "\n",
    "view = nv.show_biopython(replaced_protein_structure)\n",
    "# uncomment for protein hydrogens\n",
    "# view.add_representation(repr_type='ball+stick', selection='protein')\n",
    "view.add_structure(nv.RdkitStructure(replaced_ligand_structure))\n",
    "view"
   ]
  }
 ],
 "metadata": {
  "kernelspec": {
   "display_name": "Python 3 (ipykernel)",
   "language": "python",
   "name": "python3"
  },
  "language_info": {
   "codemirror_mode": {
    "name": "ipython",
    "version": 3
   },
   "file_extension": ".py",
   "mimetype": "text/x-python",
   "name": "python",
   "nbconvert_exporter": "python",
   "pygments_lexer": "ipython3",
   "version": "3.7.12"
  }
 },
 "nbformat": 4,
 "nbformat_minor": 5
}
