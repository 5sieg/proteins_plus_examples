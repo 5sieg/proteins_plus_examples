{
 "cells": [
  {
   "cell_type": "markdown",
   "id": "0ed5c42f",
   "metadata": {},
   "source": [
    "# SIENA: Efficient Compilation of Selective Protein Binding Site Ensembles\n",
    "\n",
    "In this notebook we show how to use the SIENA tool to compile a binding site ensemble for a given binding site.\n",
    "The tool needs a protein structure and a defintion of the query binding site as input. The query bindings\n",
    "site can be given through a reference ligand or by specifying a set of amino acid residues.\n",
    "\n",
    "In just a few seconds SIENA scans the PDB for similar binding sites and automatically generates an structure\n",
    "ensemble of the results with the query site.\n",
    "\n",
    "Stefan Bietz and Matthias Rarey\n",
    "Journal of Chemical Information and Modeling 2016 56 (1), 248-259\n",
    "https://doi.org/10.1021/acs.jcim.5b00588"
   ]
  },
  {
   "cell_type": "code",
   "execution_count": 1,
   "id": "d7370c80",
   "metadata": {},
   "outputs": [
    {
     "data": {
      "application/vnd.jupyter.widget-view+json": {
       "model_id": "2f04975d5fc948c8a3cbd9daec89b222",
       "version_major": 2,
       "version_minor": 0
      },
      "text/plain": []
     },
     "metadata": {},
     "output_type": "display_data"
    }
   ],
   "source": [
    "# imports\n",
    "import json\n",
    "import io\n",
    "from pathlib import Path\n",
    "import requests\n",
    "import sys\n",
    "import time\n",
    "import warnings\n",
    "\n",
    "from IPython.display import Image\n",
    "from Bio.PDB import *\n",
    "from Bio.PDB.PDBExceptions import PDBConstructionWarning\n",
    "import nglview as nv\n",
    "import numpy as np\n",
    "from rdkit import Chem"
   ]
  },
  {
   "cell_type": "code",
   "execution_count": 2,
   "id": "209c21f6",
   "metadata": {},
   "outputs": [],
   "source": [
    "# constants\n",
    "TEST_FILES = Path('../test_files/')\n",
    "PROTEINS_PLUS_URL = 'http://localhost:8000/'\n",
    "UPLOAD = PROTEINS_PLUS_URL + 'molecule_handler/upload/'\n",
    "UPLOAD_JOBS = PROTEINS_PLUS_URL + 'molecule_handler/upload/jobs/'\n",
    "PROTEINS = PROTEINS_PLUS_URL + 'molecule_handler/proteins/'\n",
    "LIGANDS = PROTEINS_PLUS_URL + 'molecule_handler/ligands/'\n",
    "SIENA = PROTEINS_PLUS_URL + 'siena/'\n",
    "SIENA_JOBS = PROTEINS_PLUS_URL + 'siena/jobs/'"
   ]
  },
  {
   "cell_type": "code",
   "execution_count": 3,
   "id": "bac8c267",
   "metadata": {},
   "outputs": [],
   "source": [
    "# utils\n",
    "\n",
    "# check server connection\n",
    "try:\n",
    "    response = requests.get(PROTEINS_PLUS_URL)\n",
    "except requests.ConnectionError as error:\n",
    "    if 'Connection refused' in str(error):\n",
    "        print('WARNING: could not establish a connection to the server', file=sys.stderr)\n",
    "    raise\n",
    "    \n",
    "def poll_job(job_id, poll_url, poll_interval=1, max_polls=10):\n",
    "    \"\"\"Poll the progress of a job\n",
    "    \n",
    "    Continuosly polls the server in regular intervals and updates the job information, especially the status.\n",
    "    \n",
    "    :param job_id: UUID of the job to poll\n",
    "    :type job_id: str\n",
    "    :param poll_url: URl to send the polling request to\n",
    "    :type poll_url: str\n",
    "    :param poll_interval: time interval between polls in seconds\n",
    "    :type poll_interval: int\n",
    "    :param max_polls: maximum number of times to poll before exiting\n",
    "    :type max_polls: int\n",
    "    :return: polled job\n",
    "    :rtype: dict\n",
    "    \"\"\"\n",
    "    job = requests.get(poll_url + job_id).json()\n",
    "    status = job['status']\n",
    "    current_poll = 0\n",
    "    while status == 'pending' or status == 'running':\n",
    "        print(f'Job {job_id} is { status }')\n",
    "        current_poll += 1\n",
    "        if current_poll >= max_polls:\n",
    "            print(f'Job {job_id} has not completed after {max_polls} polling requests' \\\n",
    "                  f' and {poll_interval * max_polls} seconds')\n",
    "            return job\n",
    "        time.sleep(poll_interval)\n",
    "        job = requests.get(poll_url + job_id).json()\n",
    "        status = job['status']\n",
    "    print(f'Job {job_id} completed with { status }')\n",
    "    return job\n",
    "\n",
    "def print_data_fields(model):\n",
    "    \"\"\"Print the fields of a model\n",
    "    \n",
    "    :param model: data model\n",
    "    :type model: dict\n",
    "    \"\"\"\n",
    "    for field in model.keys():\n",
    "        print(f' - \"{field}\"')"
   ]
  },
  {
   "cell_type": "code",
   "execution_count": 4,
   "id": "fb713dd8",
   "metadata": {},
   "outputs": [
    {
     "name": "stderr",
     "output_type": "stream",
     "text": [
      "/work/sieg/miniconda3/envs/examples/lib/python3.7/site-packages/Bio/PDB/StructureBuilder.py:92: PDBConstructionWarning: WARNING: Chain A is discontinuous at line 3813.\n",
      "  PDBConstructionWarning,\n",
      "/work/sieg/miniconda3/envs/examples/lib/python3.7/site-packages/Bio/PDB/StructureBuilder.py:92: PDBConstructionWarning: WARNING: Chain B is discontinuous at line 3835.\n",
      "  PDBConstructionWarning,\n",
      "/work/sieg/miniconda3/envs/examples/lib/python3.7/site-packages/Bio/PDB/StructureBuilder.py:92: PDBConstructionWarning: WARNING: Chain A is discontinuous at line 3857.\n",
      "  PDBConstructionWarning,\n",
      "/work/sieg/miniconda3/envs/examples/lib/python3.7/site-packages/Bio/PDB/StructureBuilder.py:92: PDBConstructionWarning: WARNING: Chain B is discontinuous at line 4161.\n",
      "  PDBConstructionWarning,\n"
     ]
    },
    {
     "data": {
      "application/vnd.jupyter.widget-view+json": {
       "model_id": "005bff50ae574192aa47ec1eea65b1cd",
       "version_major": 2,
       "version_minor": 0
      },
      "text/plain": [
       "NGLWidget()"
      ]
     },
     "metadata": {},
     "output_type": "display_data"
    }
   ],
   "source": [
    "protein_structure = PDBParser().get_structure('4agm', TEST_FILES / '4agm.pdb')\n",
    "view = nv.show_biopython(protein_structure)\n",
    "view"
   ]
  },
  {
   "cell_type": "markdown",
   "id": "b8c5e49e",
   "metadata": {},
   "source": [
    "We can use a reference ligand to run a binding site search"
   ]
  },
  {
   "cell_type": "code",
   "execution_count": 5,
   "id": "69d157d4",
   "metadata": {},
   "outputs": [
    {
     "data": {
      "application/vnd.jupyter.widget-view+json": {
       "model_id": "005bff50ae574192aa47ec1eea65b1cd",
       "version_major": 2,
       "version_minor": 0
      },
      "text/plain": [
       "NGLWidget()"
      ]
     },
     "metadata": {},
     "output_type": "display_data"
    }
   ],
   "source": [
    "# Let's look at the ligand we use as a reference for the query binding site \n",
    "with open(TEST_FILES / 'NXG_A_1294.sdf') as upload_ligand_file:    \n",
    "    ligand_structure = Chem.MolFromMolBlock(upload_ligand_file.read(), removeHs=False)\n",
    "    view.add_structure(nv.RdkitStructure(ligand_structure))\n",
    "\n",
    "# the reference ligand is shown with hydrogens\n",
    "view"
   ]
  },
  {
   "cell_type": "markdown",
   "id": "23c58853",
   "metadata": {},
   "source": [
    "Using Biopython and RDkit the residues of the binding site can be illustrated easily"
   ]
  },
  {
   "cell_type": "code",
   "execution_count": 7,
   "id": "6f2f24f8",
   "metadata": {},
   "outputs": [
    {
     "data": {
      "text/plain": [
       "'Found 24 close residues'"
      ]
     },
     "execution_count": 7,
     "metadata": {},
     "output_type": "execute_result"
    }
   ],
   "source": [
    "def get_amino_acid_atoms(protein_structure):\n",
    "    \"\"\"Retrieves all atoms of amino acids in the structures residues \n",
    "    \n",
    "    :param protein_structure: the protein structure\n",
    "    :type protein_structure: Bio.PDB.Structure.Structure\n",
    "    \"\"\"\n",
    "    return [a for a in protein_structure.get_atoms() if is_aa(a.parent)]\n",
    "\n",
    "def conformer_to_matrix(conformer):\n",
    "    \"\"\"Copies the atom coordinates of the conformer in a numpy matrix.\n",
    "    \n",
    "    :param conformer: the conformer\n",
    "    :type conformer: rdkit.Chem.rdchem.Conformer\n",
    "    \"\"\"\n",
    "    coord_matrix = np.empty((conformer.GetNumAtoms(), 3))\n",
    "    for i in range(coord_matrix.shape[0]):\n",
    "        coord_matrix[i, :] = conformer.GetAtomPosition(i)\n",
    "    return coord_matrix\n",
    "\n",
    "def get_close_residues(protein_structure, ligand_structure, distance_threshold):\n",
    "    \"\"\"Determines protein residues close to ligand.\n",
    "    \n",
    "    A residue is close if at least one of it's atoms is closer than \n",
    "    distance_threshold to a ligand atom.\n",
    "        \n",
    "    :param protein_structure: the protein structure\n",
    "    :type protein_structure: Bio.PDB.Structure.Structure\n",
    "    :param ligand_structure: the ligand structure\n",
    "    :type ligand_structure: rdkit.Chem.rdchem.Mol\n",
    "    :param distance_threshold: distance treshold for close residues.\n",
    "    :type distance_threshold: float\n",
    "    \"\"\"\n",
    "    \n",
    "    # Get all amino acid atoms in the input structure\n",
    "    aa_atoms = get_amino_acid_atoms(protein_structure)\n",
    "\n",
    "    # Extract the atom coordinates of the ligand into a numpy matrix\n",
    "    lig_coord_matrix = conformer_to_matrix(ligand_structure.GetConformer())\n",
    "\n",
    "    # Get 'close' residues by checking protein-ligand atom distances.\n",
    "    # For illustrative purposes we just compare all-vs-all atom distances (On^2).\n",
    "    close_residues = set()\n",
    "    for protein_atom in aa_atoms:\n",
    "        for i in range(ligand_structure.GetNumAtoms()):\n",
    "            dist = np.linalg.norm(protein_atom.coord - lig_coord_matrix[i,:])\n",
    "            if dist < distance_threshold:\n",
    "                close_residues.add(protein_atom.parent)\n",
    "    return list(close_residues)\n",
    "\n",
    "close_residues = get_close_residues(protein_structure, ligand_structure, 6.5)\n",
    "f'Found {len(close_residues)} close residues'"
   ]
  },
  {
   "cell_type": "markdown",
   "id": "555e9f8d",
   "metadata": {},
   "source": [
    "With NGL's selection language we can visualize the side chains of the close residues in the 3D view"
   ]
  },
  {
   "cell_type": "code",
   "execution_count": 8,
   "id": "17e7754c",
   "metadata": {},
   "outputs": [
    {
     "data": {
      "application/vnd.jupyter.widget-view+json": {
       "model_id": "005bff50ae574192aa47ec1eea65b1cd",
       "version_major": 2,
       "version_minor": 0
      },
      "text/plain": [
       "NGLWidget()"
      ]
     },
     "metadata": {},
     "output_type": "display_data"
    }
   ],
   "source": [
    "def residues_to_selection(residues):\n",
    "    \"\"\"Converts a list of biopython residues to a NGL selection string.\n",
    "        \n",
    "    :param residue: the residue list\n",
    "    :type residue: List[Bio.PDB.Residue.Residue]\n",
    "    \"\"\"\n",
    "    return ' or '.join([f'(:{r.parent.id} and {\"\".join(map(str, r.get_id()))})' for r in residues])\n",
    "\n",
    "# Show pocket residues as stick\n",
    "view.add_representation(\"ball+stick\", selection=residues_to_selection(close_residues))\n",
    "view"
   ]
  },
  {
   "cell_type": "markdown",
   "id": "dec23cec",
   "metadata": {},
   "source": [
    "### Binding site search with a ligand query\n",
    "Here we start the SIENA job on the server by uploading a PDB and ligand SDF file"
   ]
  },
  {
   "cell_type": "code",
   "execution_count": 9,
   "id": "84464b4d",
   "metadata": {},
   "outputs": [
    {
     "name": "stdout",
     "output_type": "stream",
     "text": [
      "Job 29fb6230-f8b9-41a8-8853-1b681d2519f3 completed with success\n"
     ]
    }
   ],
   "source": [
    "with open(TEST_FILES / 'NXG_A_1294.sdf') as upload_ligand_file:\n",
    "    with open(TEST_FILES / '4agm.pdb') as upload_file:\n",
    "        query = {'protein_file': upload_file, 'ligand_file': upload_ligand_file}\n",
    "        job_submission = requests.post(SIENA, files=query).json()\n",
    "siena_job = poll_job(job_submission['job_id'], SIENA_JOBS)    "
   ]
  },
  {
   "cell_type": "markdown",
   "id": "a49afecf",
   "metadata": {},
   "source": [
    "Let's look at the ensemble of the first 5 binding sites found in the PDB search"
   ]
  },
  {
   "cell_type": "code",
   "execution_count": 10,
   "id": "5a731834",
   "metadata": {},
   "outputs": [
    {
     "name": "stdout",
     "output_type": "stream",
     "text": [
      "Showing hit: 2J1X_1\n",
      "Showing hit: 2J1X_2\n",
      "Showing hit: 2VUK_3\n",
      "Showing hit: 2VUK_4\n",
      "Showing hit: 2X0U_5\n"
     ]
    },
    {
     "data": {
      "application/vnd.jupyter.widget-view+json": {
       "model_id": "005bff50ae574192aa47ec1eea65b1cd",
       "version_major": 2,
       "version_minor": 0
      },
      "text/plain": [
       "NGLWidget()"
      ]
     },
     "metadata": {},
     "output_type": "display_data"
    }
   ],
   "source": [
    "protein_hits = []\n",
    "for protein_id in siena_job['output_proteins'][:5]:\n",
    "    protein_hits.append(requests.get(PROTEINS + protein_id).json())\n",
    "    hit_name = protein_hits[-1]['name']\n",
    "    print('Showing hit:', hit_name)\n",
    "\n",
    "    with warnings.catch_warnings():\n",
    "        warnings.simplefilter('ignore', PDBConstructionWarning)\n",
    "        hit_structure = PDBParser().get_structure(hit_name, io.StringIO(protein_hits[-1]['file_string']))\n",
    "    view.add_structure(nv.BiopythonStructure(hit_structure))\n",
    "view"
   ]
  },
  {
   "cell_type": "markdown",
   "id": "a9fadfc5",
   "metadata": {},
   "source": [
    "### Binding site search with a residue list query\n",
    "A binding site can also be defined by a list of residues which we provide to SIENA through a json file"
   ]
  },
  {
   "cell_type": "markdown",
   "id": "1ac07d0e",
   "metadata": {},
   "source": [
    "Let's start by making a new 3D viewer and show the side chains of the residues we want to use as binding site definition. \n",
    "We just re-use the close_residues we determined before."
   ]
  },
  {
   "cell_type": "code",
   "execution_count": 11,
   "id": "9531a603",
   "metadata": {},
   "outputs": [
    {
     "data": {
      "application/vnd.jupyter.widget-view+json": {
       "model_id": "2474ee52781342cca71070a963985c80",
       "version_major": 2,
       "version_minor": 0
      },
      "text/plain": [
       "NGLWidget()"
      ]
     },
     "metadata": {},
     "output_type": "display_data"
    }
   ],
   "source": [
    "view2 = nv.show_biopython(protein_structure)\n",
    "view2.add_representation(\"ball+stick\", selection=residues_to_selection(close_residues))\n",
    "view2"
   ]
  },
  {
   "cell_type": "code",
   "execution_count": 12,
   "id": "415e4ec2",
   "metadata": {},
   "outputs": [],
   "source": [
    "def biopython_residue_to_dict(residue):\n",
    "    \"\"\"Convertes a biopython residue to a dict.\n",
    "    \n",
    "    :param residue: the residue\n",
    "    :type residue: Bio.PDB.Residue.Residue\n",
    "    \"\"\"\n",
    "    _, pos, icode = residue.get_id()\n",
    "    icode = icode.strip()\n",
    "    return {'name': residue.get_resname(), 'position': f'{pos}{icode}', 'chain': residue.parent.id}"
   ]
  },
  {
   "cell_type": "markdown",
   "id": "ea008163",
   "metadata": {},
   "source": [
    "We can simply convert a list of biopython residues to a json and send the json to the server to start a SIENA job with it "
   ]
  },
  {
   "cell_type": "code",
   "execution_count": 13,
   "id": "959afe84",
   "metadata": {},
   "outputs": [
    {
     "name": "stdout",
     "output_type": "stream",
     "text": [
      "Job 96706925-7057-41c6-a13a-ac9b186eedf9 completed with success\n"
     ]
    },
    {
     "data": {
      "text/plain": [
       "{'job_id': '96706925-7057-41c6-a13a-ac9b186eedf9',\n",
       " 'retrieved_from_cache': True}"
      ]
     },
     "execution_count": 13,
     "metadata": {},
     "output_type": "execute_result"
    }
   ],
   "source": [
    "residue_query_dict = {'residue_ids': [biopython_residue_to_dict(r) for r in close_residues]}\n",
    "residue_query_json = json.dumps(residue_query_dict)\n",
    "\n",
    "# call SIENA job again but with a protein_site_json query\n",
    "with open(TEST_FILES / '4agm.pdb') as upload_file:\n",
    "    query = {'protein_file': upload_file}\n",
    "    other_job_submission = requests.post(SIENA, files=query, data={'protein_site_json': residue_query_json}).json()\n",
    "other_siena_job = poll_job(other_job_submission['job_id'], SIENA_JOBS)  \n",
    "other_job_submission\n",
    "# json.dumps(residue_query_dict)"
   ]
  },
  {
   "cell_type": "markdown",
   "id": "96fbc44b",
   "metadata": {},
   "source": [
    "Again we visualize the first retrieved binding sites "
   ]
  },
  {
   "cell_type": "code",
   "execution_count": 14,
   "id": "ce58bbab",
   "metadata": {},
   "outputs": [
    {
     "name": "stdout",
     "output_type": "stream",
     "text": [
      "Showing hit: 2J1X_1\n",
      "Showing hit: 2J1X_2\n",
      "Showing hit: 2VUK_3\n",
      "Showing hit: 2VUK_4\n",
      "Showing hit: 2X0U_5\n"
     ]
    },
    {
     "data": {
      "application/vnd.jupyter.widget-view+json": {
       "model_id": "2474ee52781342cca71070a963985c80",
       "version_major": 2,
       "version_minor": 0
      },
      "text/plain": [
       "NGLWidget()"
      ]
     },
     "metadata": {},
     "output_type": "display_data"
    }
   ],
   "source": [
    "protein_hits2 = []\n",
    "for protein_id in other_siena_job['output_proteins'][:5]:\n",
    "    protein_hits2.append(requests.get(PROTEINS + protein_id).json())\n",
    "    hit_name = protein_hits2[-1]['name']\n",
    "    print('Showing hit:', hit_name)\n",
    "\n",
    "    with warnings.catch_warnings():\n",
    "        warnings.simplefilter('ignore', PDBConstructionWarning)\n",
    "        hit_structure = PDBParser().get_structure(hit_name, io.StringIO(protein_hits2[-1]['file_string']))\n",
    "    view2.add_structure(nv.BiopythonStructure(hit_structure))\n",
    "view2"
   ]
  }
 ],
 "metadata": {
  "kernelspec": {
   "display_name": "Python 3 (ipykernel)",
   "language": "python",
   "name": "python3"
  },
  "language_info": {
   "codemirror_mode": {
    "name": "ipython",
    "version": 3
   },
   "file_extension": ".py",
   "mimetype": "text/x-python",
   "name": "python",
   "nbconvert_exporter": "python",
   "pygments_lexer": "ipython3",
   "version": "3.7.13"
  }
 },
 "nbformat": 4,
 "nbformat_minor": 5
}
