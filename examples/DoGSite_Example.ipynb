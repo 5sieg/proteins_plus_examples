{
 "cells": [
  {
   "cell_type": "markdown",
   "id": "43a4d076",
   "metadata": {},
   "source": [
    "# DoGSite: Binding site prediction in protein complexes"
   ]
  },
  {
   "cell_type": "code",
   "execution_count": 1,
   "id": "bffcc48e",
   "metadata": {},
   "outputs": [
    {
     "data": {
      "application/vnd.jupyter.widget-view+json": {
       "model_id": "56301e5d033c4333acf283a9b3441b02",
       "version_major": 2,
       "version_minor": 0
      },
      "text/plain": []
     },
     "metadata": {},
     "output_type": "display_data"
    }
   ],
   "source": [
    "# imports\n",
    "import json\n",
    "import io\n",
    "from pathlib import Path\n",
    "import requests\n",
    "import sys\n",
    "import time\n",
    "import urllib.request\n",
    "import pandas as pd\n",
    "\n",
    "from IPython.display import Image\n",
    "from Bio.PDB import *\n",
    "from Bio.PDB.PDBExceptions import PDBConstructionWarning\n",
    "import nglview as nv\n",
    "import numpy as np\n",
    "from rdkit import Chem"
   ]
  },
  {
   "cell_type": "code",
   "execution_count": 2,
   "id": "035adc3b",
   "metadata": {},
   "outputs": [],
   "source": [
    "# constants\n",
    "TEST_FILES = Path('../test_files/')\n",
    "PROTEINS_PLUS_URL = 'http://localhost:8000/'\n",
    "UPLOAD = PROTEINS_PLUS_URL + 'molecule_handler/upload/'\n",
    "UPLOAD_JOBS = PROTEINS_PLUS_URL + 'molecule_handler/upload/jobs/'\n",
    "PROTEINS = PROTEINS_PLUS_URL + 'molecule_handler/proteins/'\n",
    "PROTEINSITES = PROTEINS_PLUS_URL + 'molecule_handler/protein_sites/'\n",
    "ELECTRONDENSITYMAP = PROTEINS_PLUS_URL + 'molecule_handler/electron_density_maps/'\n",
    "LIGANDS = PROTEINS_PLUS_URL + 'molecule_handler/ligands/'\n",
    "DOGSITE = PROTEINS_PLUS_URL + 'dogsite/'\n",
    "DOGSITE_INFO = PROTEINS_PLUS_URL + 'dogsite/info/'\n",
    "DOGSITE_JOBS = PROTEINS_PLUS_URL + 'dogsite/jobs/'"
   ]
  },
  {
   "cell_type": "code",
   "execution_count": 3,
   "id": "03ed8caa",
   "metadata": {},
   "outputs": [],
   "source": [
    "# utils\n",
    "\n",
    "# check server connection\n",
    "try:\n",
    "    response = requests.get(PROTEINS_PLUS_URL)\n",
    "except requests.ConnectionError as error:\n",
    "    if 'Connection refused' in str(error):\n",
    "        print('WARNING: could not establish a connection to the server', file=sys.stderr)\n",
    "    raise\n",
    "    \n",
    "def poll_job(job_id, poll_url, poll_interval=1, max_polls=10):\n",
    "    \"\"\"Poll the progress of a job\n",
    "    \n",
    "    Continously polls the server in regular intervals and updates the job information, especially the status.\n",
    "    \n",
    "    :param job_id: UUID of the job to poll\n",
    "    :type job_id: str\n",
    "    :param poll_url: URl to send the polling request to\n",
    "    :type poll_url: str\n",
    "    :param poll_interval: time interval between polls in seconds\n",
    "    :type poll_interval: int\n",
    "    :param max_polls: maximum number of times to poll before exiting\n",
    "    :type max_polls: int\n",
    "    :return: polled job\n",
    "    :rtype: dict\n",
    "    \"\"\"\n",
    "    job = requests.get(poll_url + job_id).json()\n",
    "    status = job['status']\n",
    "    current_poll = 0\n",
    "    while status == 'pending' or status == 'running':\n",
    "        print(f'Job {job_id} is { status }')\n",
    "        current_poll += 1\n",
    "        if current_poll >= max_polls:\n",
    "            print(f'Job {job_id} has not completed after {max_polls} polling requests' \\\n",
    "                  f' and {poll_interval * max_polls} seconds')\n",
    "            return job\n",
    "        time.sleep(poll_interval)\n",
    "        job = requests.get(poll_url + job_id).json()\n",
    "        status = job['status']\n",
    "    print(f'Job {job_id} completed with { status }')\n",
    "    return job"
   ]
  },
  {
   "cell_type": "markdown",
   "id": "d3bad5e4",
   "metadata": {},
   "source": [
    "## Predict, visualize and display statistics of binding pockets"
   ]
  },
  {
   "cell_type": "markdown",
   "id": "bf2e3caa",
   "metadata": {},
   "source": [
    "We can upload a file and start a DoGSite job like this:"
   ]
  },
  {
   "cell_type": "code",
   "execution_count": 5,
   "id": "68d15254",
   "metadata": {},
   "outputs": [
    {
     "name": "stdout",
     "output_type": "stream",
     "text": [
      "Job 099b98f8-4d5e-45cd-b7e9-7f9d13d6b68f completed with success\n"
     ]
    }
   ],
   "source": [
    "with open(TEST_FILES / '4agm.pdb') as upload_file:\n",
    "    query = {'protein_file': upload_file}\n",
    "    job_submission = requests.post(DOGSITE, files=query).json()\n",
    "    dogsite_job = poll_job(job_submission['job_id'], DOGSITE_JOBS)"
   ]
  },
  {
   "cell_type": "markdown",
   "id": "275f6025",
   "metadata": {},
   "source": [
    "Then we can output all residues of e.g. the first pocket:"
   ]
  },
  {
   "cell_type": "code",
   "execution_count": 6,
   "id": "461c775d",
   "metadata": {},
   "outputs": [
    {
     "name": "stdout",
     "output_type": "stream",
     "text": [
      "{'name': 'VAL', 'chain': 'A', 'position': '97'}\n",
      "{'name': 'PRO', 'chain': 'A', 'position': '98'}\n",
      "{'name': 'SER', 'chain': 'A', 'position': '99'}\n",
      "{'name': 'GLN', 'chain': 'A', 'position': '100'}\n",
      "{'name': 'LYS', 'chain': 'A', 'position': '101'}\n",
      "{'name': 'SER', 'chain': 'A', 'position': '166'}\n",
      "{'name': 'MET', 'chain': 'A', 'position': '169'}\n",
      "{'name': 'ALA', 'chain': 'B', 'position': '138'}\n",
      "{'name': 'ASP', 'chain': 'B', 'position': '186'}\n",
      "{'name': 'LEU', 'chain': 'B', 'position': '188'}\n",
      "{'name': 'ARG', 'chain': 'B', 'position': '196'}\n",
      "{'name': 'VAL', 'chain': 'B', 'position': '197'}\n",
      "{'name': 'GLY', 'chain': 'B', 'position': '199'}\n",
      "{'name': 'ASN', 'chain': 'B', 'position': '200'}\n",
      "{'name': 'LEU', 'chain': 'B', 'position': '201'}\n",
      "{'name': 'ALA', 'chain': 'B', 'position': '203'}\n",
      "{'name': 'TYR', 'chain': 'B', 'position': '205'}\n",
      "{'name': 'ASN', 'chain': 'B', 'position': '235'}\n",
      "{'name': 'MET', 'chain': 'B', 'position': '237'}\n"
     ]
    }
   ],
   "source": [
    "first_pocket = dogsite_job['output_pockets'][:1][0]\n",
    "site = requests.get(PROTEINSITES + first_pocket).json()\n",
    "residues_first_pocket = site['site_description']['residue_ids']\n",
    "for i in residues_first_pocket:\n",
    "        print(i)"
   ]
  },
  {
   "cell_type": "code",
   "execution_count": 12,
   "id": "9eb7f9c4",
   "metadata": {},
   "outputs": [
    {
     "name": "stderr",
     "output_type": "stream",
     "text": [
      "/local/graef/miniconda3/envs/examples/lib/python3.7/site-packages/Bio/PDB/StructureBuilder.py:92: PDBConstructionWarning: WARNING: Chain A is discontinuous at line 3813.\n",
      "  PDBConstructionWarning,\n",
      "/local/graef/miniconda3/envs/examples/lib/python3.7/site-packages/Bio/PDB/StructureBuilder.py:92: PDBConstructionWarning: WARNING: Chain B is discontinuous at line 3835.\n",
      "  PDBConstructionWarning,\n",
      "/local/graef/miniconda3/envs/examples/lib/python3.7/site-packages/Bio/PDB/StructureBuilder.py:92: PDBConstructionWarning: WARNING: Chain A is discontinuous at line 3857.\n",
      "  PDBConstructionWarning,\n",
      "/local/graef/miniconda3/envs/examples/lib/python3.7/site-packages/Bio/PDB/StructureBuilder.py:92: PDBConstructionWarning: WARNING: Chain B is discontinuous at line 4161.\n",
      "  PDBConstructionWarning,\n"
     ]
    },
    {
     "data": {
      "application/vnd.jupyter.widget-view+json": {
       "model_id": "86fd7b32b59c432d91dd30cde552d109",
       "version_major": 2,
       "version_minor": 0
      },
      "text/plain": [
       "NGLWidget()"
      ]
     },
     "metadata": {},
     "output_type": "display_data"
    }
   ],
   "source": [
    "protein_structure = PDBParser().get_structure('4agm', TEST_FILES / '4agm.pdb')\n",
    "\n",
    "first_density = dogsite_job['output_densities'][0]\n",
    "density_to_view = requests.get(ELECTRONDENSITYMAP + first_density).json()\n",
    "ccp4_file_path = density_to_view['file']\n",
    "with urllib.request.urlopen(ccp4_file_path) as response:\n",
    "    view2 = nv.show_file(response, ext='ccp4')\n",
    "    view2.add_component(nv.BiopythonStructure(protein_structure))\n",
    "view2"
   ]
  },
  {
   "cell_type": "code",
   "execution_count": 13,
   "id": "425a977b",
   "metadata": {},
   "outputs": [],
   "source": [
    "view2.clear_representations()\n",
    "view2.add_surface(wrap=True, contour=True, color=\"skyblue\", opacity=0.8, isolevelType=\"value\", isolevel=0.0001)"
   ]
  },
  {
   "cell_type": "markdown",
   "id": "ed666f6a",
   "metadata": {},
   "source": [
    "We can also get pocket statistics of all the predicted pockets. In the following a few exemplary properties are returned. Note that no ligand is associated with a pocket because we did not provide a ligand name or file."
   ]
  },
  {
   "cell_type": "code",
   "execution_count": 9,
   "id": "f26d53fd",
   "metadata": {},
   "outputs": [
    {
     "data": {
      "text/html": [
       "<div>\n",
       "<style scoped>\n",
       "    .dataframe tbody tr th:only-of-type {\n",
       "        vertical-align: middle;\n",
       "    }\n",
       "\n",
       "    .dataframe tbody tr th {\n",
       "        vertical-align: top;\n",
       "    }\n",
       "\n",
       "    .dataframe thead th {\n",
       "        text-align: right;\n",
       "    }\n",
       "</style>\n",
       "<table border=\"1\" class=\"dataframe\">\n",
       "  <thead>\n",
       "    <tr style=\"text-align: right;\">\n",
       "      <th></th>\n",
       "      <th>name</th>\n",
       "      <th>depth</th>\n",
       "      <th>volume</th>\n",
       "      <th>donor</th>\n",
       "      <th>accept</th>\n",
       "      <th>lig_name</th>\n",
       "    </tr>\n",
       "  </thead>\n",
       "  <tbody>\n",
       "    <tr>\n",
       "      <th>0</th>\n",
       "      <td>P_1</td>\n",
       "      <td>15.2</td>\n",
       "      <td>287.744</td>\n",
       "      <td>8</td>\n",
       "      <td>9</td>\n",
       "      <td></td>\n",
       "    </tr>\n",
       "    <tr>\n",
       "      <th>1</th>\n",
       "      <td>P_2</td>\n",
       "      <td>16.819</td>\n",
       "      <td>200.704</td>\n",
       "      <td>5</td>\n",
       "      <td>9</td>\n",
       "      <td></td>\n",
       "    </tr>\n",
       "    <tr>\n",
       "      <th>2</th>\n",
       "      <td>P_3</td>\n",
       "      <td>14.6205</td>\n",
       "      <td>181.76</td>\n",
       "      <td>4</td>\n",
       "      <td>7</td>\n",
       "      <td></td>\n",
       "    </tr>\n",
       "    <tr>\n",
       "      <th>3</th>\n",
       "      <td>P_4</td>\n",
       "      <td>11.9197</td>\n",
       "      <td>115.2</td>\n",
       "      <td>4</td>\n",
       "      <td>5</td>\n",
       "      <td></td>\n",
       "    </tr>\n",
       "    <tr>\n",
       "      <th>4</th>\n",
       "      <td>P_5</td>\n",
       "      <td>10.3073</td>\n",
       "      <td>115.2</td>\n",
       "      <td>4</td>\n",
       "      <td>4</td>\n",
       "      <td></td>\n",
       "    </tr>\n",
       "    <tr>\n",
       "      <th>5</th>\n",
       "      <td>P_6</td>\n",
       "      <td>9.92774</td>\n",
       "      <td>109.056</td>\n",
       "      <td>9</td>\n",
       "      <td>5</td>\n",
       "      <td></td>\n",
       "    </tr>\n",
       "    <tr>\n",
       "      <th>6</th>\n",
       "      <td>P_7</td>\n",
       "      <td>10.1509</td>\n",
       "      <td>104.96</td>\n",
       "      <td>9</td>\n",
       "      <td>5</td>\n",
       "      <td></td>\n",
       "    </tr>\n",
       "  </tbody>\n",
       "</table>\n",
       "</div>"
      ],
      "text/plain": [
       "  name    depth   volume donor accept lig_name\n",
       "0  P_1     15.2  287.744     8      9         \n",
       "1  P_2   16.819  200.704     5      9         \n",
       "2  P_3  14.6205   181.76     4      7         \n",
       "3  P_4  11.9197    115.2     4      5         \n",
       "4  P_5  10.3073    115.2     4      4         \n",
       "5  P_6  9.92774  109.056     9      5         \n",
       "6  P_7  10.1509   104.96     9      5         "
      ]
     },
     "execution_count": 9,
     "metadata": {},
     "output_type": "execute_result"
    }
   ],
   "source": [
    "dogsite_info = requests.get(DOGSITE_INFO + dogsite_job['dogsite_info']).json()\n",
    "pockets_statistics = dogsite_info['info']\n",
    "\n",
    "df = pd.DataFrame(pockets_statistics)\n",
    "df[['name', 'depth', 'volume', 'donor', 'accept', 'lig_name']]"
   ]
  },
  {
   "cell_type": "markdown",
   "id": "e61790dc",
   "metadata": {},
   "source": [
    "## Examples for other parameter options of DoGSite"
   ]
  },
  {
   "cell_type": "markdown",
   "id": "39e23557",
   "metadata": {},
   "source": [
    "In the following example we want to add a ligand so that we find the pocket that contains it. Also we want to output the subpockets which the actual pockets are formed of."
   ]
  },
  {
   "cell_type": "code",
   "execution_count": 26,
   "id": "64c4d28f",
   "metadata": {},
   "outputs": [
    {
     "name": "stdout",
     "output_type": "stream",
     "text": [
      "Job 441c8690-2a95-4859-9fb9-8dcd766d51cf is running\n",
      "Job 441c8690-2a95-4859-9fb9-8dcd766d51cf is running\n",
      "Job 441c8690-2a95-4859-9fb9-8dcd766d51cf is running\n",
      "Job 441c8690-2a95-4859-9fb9-8dcd766d51cf completed with success\n"
     ]
    },
    {
     "data": {
      "text/html": [
       "<div>\n",
       "<style scoped>\n",
       "    .dataframe tbody tr th:only-of-type {\n",
       "        vertical-align: middle;\n",
       "    }\n",
       "\n",
       "    .dataframe tbody tr th {\n",
       "        vertical-align: top;\n",
       "    }\n",
       "\n",
       "    .dataframe thead th {\n",
       "        text-align: right;\n",
       "    }\n",
       "</style>\n",
       "<table border=\"1\" class=\"dataframe\">\n",
       "  <thead>\n",
       "    <tr style=\"text-align: right;\">\n",
       "      <th></th>\n",
       "      <th>name</th>\n",
       "      <th>depth</th>\n",
       "      <th>volume</th>\n",
       "      <th>donor</th>\n",
       "      <th>accept</th>\n",
       "      <th>lig_name</th>\n",
       "      <th>lig_cov</th>\n",
       "    </tr>\n",
       "  </thead>\n",
       "  <tbody>\n",
       "    <tr>\n",
       "      <th>0</th>\n",
       "      <td>P_1</td>\n",
       "      <td>15.2</td>\n",
       "      <td>287.744</td>\n",
       "      <td>8</td>\n",
       "      <td>9</td>\n",
       "      <td>non</td>\n",
       "      <td>0</td>\n",
       "    </tr>\n",
       "    <tr>\n",
       "      <th>1</th>\n",
       "      <td>P_2</td>\n",
       "      <td>16.819</td>\n",
       "      <td>200.704</td>\n",
       "      <td>5</td>\n",
       "      <td>9</td>\n",
       "      <td>non</td>\n",
       "      <td>0</td>\n",
       "    </tr>\n",
       "    <tr>\n",
       "      <th>2</th>\n",
       "      <td>P_3</td>\n",
       "      <td>14.6205</td>\n",
       "      <td>181.76</td>\n",
       "      <td>4</td>\n",
       "      <td>7</td>\n",
       "      <td>NXG_A_1294</td>\n",
       "      <td>43.3962</td>\n",
       "    </tr>\n",
       "    <tr>\n",
       "      <th>3</th>\n",
       "      <td>P_4</td>\n",
       "      <td>11.9197</td>\n",
       "      <td>115.2</td>\n",
       "      <td>4</td>\n",
       "      <td>5</td>\n",
       "      <td>non</td>\n",
       "      <td>0</td>\n",
       "    </tr>\n",
       "    <tr>\n",
       "      <th>4</th>\n",
       "      <td>P_4_1</td>\n",
       "      <td>9.86306</td>\n",
       "      <td>91.648</td>\n",
       "      <td>4</td>\n",
       "      <td>4</td>\n",
       "      <td>non</td>\n",
       "      <td>0</td>\n",
       "    </tr>\n",
       "    <tr>\n",
       "      <th>5</th>\n",
       "      <td>P_4_2</td>\n",
       "      <td>7.54718</td>\n",
       "      <td>23.552</td>\n",
       "      <td>0</td>\n",
       "      <td>1</td>\n",
       "      <td>non</td>\n",
       "      <td>0</td>\n",
       "    </tr>\n",
       "    <tr>\n",
       "      <th>6</th>\n",
       "      <td>P_5</td>\n",
       "      <td>10.3073</td>\n",
       "      <td>115.2</td>\n",
       "      <td>4</td>\n",
       "      <td>4</td>\n",
       "      <td>non</td>\n",
       "      <td>0</td>\n",
       "    </tr>\n",
       "    <tr>\n",
       "      <th>7</th>\n",
       "      <td>P_6</td>\n",
       "      <td>9.92774</td>\n",
       "      <td>109.056</td>\n",
       "      <td>9</td>\n",
       "      <td>5</td>\n",
       "      <td>non</td>\n",
       "      <td>0</td>\n",
       "    </tr>\n",
       "    <tr>\n",
       "      <th>8</th>\n",
       "      <td>P_7</td>\n",
       "      <td>10.1509</td>\n",
       "      <td>104.96</td>\n",
       "      <td>9</td>\n",
       "      <td>5</td>\n",
       "      <td>non</td>\n",
       "      <td>0</td>\n",
       "    </tr>\n",
       "  </tbody>\n",
       "</table>\n",
       "</div>"
      ],
      "text/plain": [
       "    name    depth   volume donor accept    lig_name  lig_cov\n",
       "0    P_1     15.2  287.744     8      9         non        0\n",
       "1    P_2   16.819  200.704     5      9         non        0\n",
       "2    P_3  14.6205   181.76     4      7  NXG_A_1294  43.3962\n",
       "3    P_4  11.9197    115.2     4      5         non        0\n",
       "4  P_4_1  9.86306   91.648     4      4         non        0\n",
       "5  P_4_2  7.54718   23.552     0      1         non        0\n",
       "6    P_5  10.3073    115.2     4      4         non        0\n",
       "7    P_6  9.92774  109.056     9      5         non        0\n",
       "8    P_7  10.1509   104.96     9      5         non        0"
      ]
     },
     "execution_count": 26,
     "metadata": {},
     "output_type": "execute_result"
    }
   ],
   "source": [
    "with open(TEST_FILES / 'NXG_A_1294.sdf') as upload_ligand_file:\n",
    "    with open(TEST_FILES / '4agm.pdb') as upload_file:\n",
    "        query = {'protein_file': upload_file, 'ligand_file': upload_ligand_file}\n",
    "        options = {'calc_subpockets': True}\n",
    "        job_submission = requests.post(DOGSITE, files=query, data=options).json()\n",
    "        dogsite_job2 = poll_job(job_submission['job_id'], DOGSITE_JOBS)\n",
    "\n",
    "dogsite_info2 = requests.get(DOGSITE_INFO + dogsite_job2['dogsite_info']).json()\n",
    "pockets_statistics2 = dogsite_info2['info']\n",
    "\n",
    "df = pd.DataFrame(pockets_statistics2)\n",
    "df[['name', 'depth', 'volume', 'donor', 'accept', 'lig_name', 'lig_cov']]"
   ]
  },
  {
   "cell_type": "markdown",
   "id": "92c6b2c9",
   "metadata": {},
   "source": [
    "We could also specify for which chain we would like to predict pockets. In the output you can see that fewer pockets were found because of the restriction to chain 'A'. If we already know the ligand position we can use the ligand-bias option to tell DoGSite to focus the pocket prediction on the protein environment near the ligand. This is especially useful when the ligand is partially protruding into the solvent (see the different depth, volume and ligand coverage values in the output below): "
   ]
  },
  {
   "cell_type": "code",
   "execution_count": 23,
   "id": "fb45d400",
   "metadata": {},
   "outputs": [
    {
     "name": "stdout",
     "output_type": "stream",
     "text": [
      "{'job_id': '37f99230-f65c-4db3-a427-9787c6f29667', 'retrieved_from_cache': True}\n",
      "Job 37f99230-f65c-4db3-a427-9787c6f29667 completed with success\n"
     ]
    },
    {
     "data": {
      "text/html": [
       "<div>\n",
       "<style scoped>\n",
       "    .dataframe tbody tr th:only-of-type {\n",
       "        vertical-align: middle;\n",
       "    }\n",
       "\n",
       "    .dataframe tbody tr th {\n",
       "        vertical-align: top;\n",
       "    }\n",
       "\n",
       "    .dataframe thead th {\n",
       "        text-align: right;\n",
       "    }\n",
       "</style>\n",
       "<table border=\"1\" class=\"dataframe\">\n",
       "  <thead>\n",
       "    <tr style=\"text-align: right;\">\n",
       "      <th></th>\n",
       "      <th>name</th>\n",
       "      <th>depth</th>\n",
       "      <th>volume</th>\n",
       "      <th>donor</th>\n",
       "      <th>accept</th>\n",
       "      <th>lig_name</th>\n",
       "      <th>lig_cov</th>\n",
       "    </tr>\n",
       "  </thead>\n",
       "  <tbody>\n",
       "    <tr>\n",
       "      <th>0</th>\n",
       "      <td>P_1</td>\n",
       "      <td>14.4444</td>\n",
       "      <td>246.272</td>\n",
       "      <td>7</td>\n",
       "      <td>8</td>\n",
       "      <td>NXG_A_1294</td>\n",
       "      <td>54.717</td>\n",
       "    </tr>\n",
       "    <tr>\n",
       "      <th>1</th>\n",
       "      <td>P_2</td>\n",
       "      <td>10.245</td>\n",
       "      <td>115.712</td>\n",
       "      <td>9</td>\n",
       "      <td>5</td>\n",
       "      <td>non</td>\n",
       "      <td>0</td>\n",
       "    </tr>\n",
       "  </tbody>\n",
       "</table>\n",
       "</div>"
      ],
      "text/plain": [
       "  name    depth   volume donor accept    lig_name lig_cov\n",
       "0  P_1  14.4444  246.272     7      8  NXG_A_1294  54.717\n",
       "1  P_2   10.245  115.712     9      5         non       0"
      ]
     },
     "execution_count": 23,
     "metadata": {},
     "output_type": "execute_result"
    }
   ],
   "source": [
    "with open(TEST_FILES / 'NXG_A_1294.sdf') as upload_ligand_file:\n",
    "    with open(TEST_FILES / '4agm.pdb') as upload_file:\n",
    "        query = {'protein_file': upload_file, 'ligand_file': upload_ligand_file}\n",
    "        options = {'chain_id': 'A', 'ligand_bias': True}\n",
    "        job_submission = requests.post(DOGSITE, files=query, data=options).json()\n",
    "        print(job_submission)\n",
    "        dogsite_job3 = poll_job(job_submission['job_id'], DOGSITE_JOBS)\n",
    "\n",
    "dogsite_info3 = requests.get(DOGSITE_INFO + dogsite_job3['dogsite_info']).json()\n",
    "pockets_statistics3 = dogsite_info3['info']\n",
    "\n",
    "df = pd.DataFrame(pockets_statistics3)\n",
    "df[['name', 'depth', 'volume', 'donor', 'accept', 'lig_name', 'lig_cov']]"
   ]
  },
  {
   "cell_type": "code",
   "execution_count": null,
   "id": "4382c138",
   "metadata": {},
   "outputs": [],
   "source": []
  }
 ],
 "metadata": {
  "kernelspec": {
   "display_name": "Python 3 (ipykernel)",
   "language": "python",
   "name": "python3"
  },
  "language_info": {
   "codemirror_mode": {
    "name": "ipython",
    "version": 3
   },
   "file_extension": ".py",
   "mimetype": "text/x-python",
   "name": "python",
   "nbconvert_exporter": "python",
   "pygments_lexer": "ipython3",
   "version": "3.7.12"
  }
 },
 "nbformat": 4,
 "nbformat_minor": 5
}
